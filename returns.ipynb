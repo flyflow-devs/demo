{
 "cells": [
  {
   "cell_type": "code",
   "execution_count": 1,
   "outputs": [],
   "source": [
    "from flyflowclient import Flyflow\n",
    "\n",
    "client = Flyflow(api_key='demo')"
   ],
   "metadata": {
    "collapsed": false,
    "ExecuteTime": {
     "end_time": "2024-05-16T20:40:44.046257Z",
     "start_time": "2024-05-16T20:40:43.928742Z"
    }
   },
   "id": "9d99c80cc3b82aeb"
  },
  {
   "cell_type": "code",
   "execution_count": 10,
   "id": "initial_id",
   "metadata": {
    "collapsed": true,
    "ExecuteTime": {
     "end_time": "2024-05-16T21:31:24.537064Z",
     "start_time": "2024-05-16T21:31:24.524897Z"
    }
   },
   "outputs": [],
   "source": [
    "system_prompt = f\"\"\"\n",
    "Your job is to facilitate the return of a hammer to home deport\n",
    "\n",
    "Your name is Teddy.\n",
    "\n",
    "Style Guide \n",
    "- Be consice and to the point\n",
    "- For short thoughts, respond in one sentence or less\n",
    "- Only include one idea at a time in your response\n",
    "- Keep the conversation focused on returning the item \n",
    "\"\"\""
   ]
  },
  {
   "cell_type": "code",
   "execution_count": 18,
   "outputs": [
    {
     "name": "stdout",
     "output_type": "stream",
     "text": [
      "{'id': 20, 'created_at': '2024-05-16T21:33:31.119356784Z', 'updated_at': '2024-05-16T21:33:31.119356784Z', 'deleted_at': None, 'user_id': 2, 'name': 'Return agent', 'phone_number': '+15705368901', 'phone_sid': 'PNc5b5bab02ba27dfe921ed4c77265b43a', 'system_prompt': '\\nYour job is to facilitate the return of a hammer to home deport\\n\\nYour name is Teddy.\\n\\nStyle Guide \\n- Be consice and to the point\\n- For short thoughts, respond in one sentence or less\\n- Only include one idea at a time in your response\\n- Keep the conversation focused on returning the item \\n', 'initial_message': 'Hey there, Id like to make a return today', 'llm_model': 'gpt-4o', 'voice_id': 'female-young-american-warm', 'webhook': 'https://f078-108-27-77-118.ngrok-free.app/webhook', 'tools': [{'type': 'function', 'function': {'name': 'objections', 'description': 'If the users objects to the return, parse out the objection', 'parameters': {'properties': {'objections': {'description': 'objection that the user specifies', 'type': 'string'}}, 'required': ['interests'], 'type': 'object'}}}], 'filler_words': True, 'filler_words_whitelist': ['Yeah.', 'Hmm.', 'Sure.', 'Let me see.', 'Alright.', 'Well.', '']}\n"
     ]
    }
   ],
   "source": [
    "agent = client.create_agent(\n",
    "    name='Return agent',\n",
    "    system_prompt=system_prompt,\n",
    "    initial_message='Hey there, Id like to make a return today',\n",
    "    llm_model='gpt-4o',\n",
    "    voice_id='female-young-american-warm',\n",
    "    webhook='https://f078-108-27-77-118.ngrok-free.app/webhook',\n",
    "    tools=[{\n",
    "        \"type\": \"function\",\n",
    "        \"function\": {\n",
    "            \"name\": \"objections\",\n",
    "            \"description\": \"If the users objects to the return, parse out the objection\",\n",
    "            \"parameters\": {\n",
    "                \"type\": \"object\",\n",
    "                \"properties\": {\n",
    "                    \"objections\": {\n",
    "                        \"type\": \"string\",\n",
    "                        \"description\": \"objection that the user specifies\"\n",
    "                    },\n",
    "                },\n",
    "                \"required\": [\"interests\"]\n",
    "            }\n",
    "        }\n",
    "    }],\n",
    "    filler_words=True,\n",
    "    filler_words_whitelist=[\"Yeah.\", \"Hmm.\", \"Sure.\", \"Let me see.\", \"Alright.\", \"Well.\", \"\"],\n",
    "    area_code='415'\n",
    ")\n",
    "\n",
    "print(agent)"
   ],
   "metadata": {
    "collapsed": false,
    "ExecuteTime": {
     "end_time": "2024-05-16T21:33:31.169333Z",
     "start_time": "2024-05-16T21:33:29.125856Z"
    }
   },
   "id": "bcc304f7d5ad0a94"
  },
  {
   "cell_type": "code",
   "execution_count": 19,
   "outputs": [
    {
     "name": "stdout",
     "output_type": "stream",
     "text": [
      "+15705368901\n"
     ]
    }
   ],
   "source": [
    "print(agent[\"phone_number\"])"
   ],
   "metadata": {
    "collapsed": false,
    "ExecuteTime": {
     "end_time": "2024-05-16T21:33:34.931639Z",
     "start_time": "2024-05-16T21:33:34.924583Z"
    }
   },
   "id": "d145db36ef9d43a1"
  },
  {
   "cell_type": "code",
   "execution_count": 20,
   "outputs": [],
   "source": [
    "call = client.create_call(\n",
    "    to_number=\"6083547210\",\n",
    "    from_number=agent[\"phone_number\"]\n",
    ")"
   ],
   "metadata": {
    "collapsed": false,
    "ExecuteTime": {
     "end_time": "2024-05-16T21:34:12.700785Z",
     "start_time": "2024-05-16T21:34:12.156320Z"
    }
   },
   "id": "9f015d64c95eddf6"
  },
  {
   "cell_type": "code",
   "execution_count": null,
   "outputs": [],
   "source": [],
   "metadata": {
    "collapsed": false
   },
   "id": "143c26c79015892b"
  }
 ],
 "metadata": {
  "kernelspec": {
   "display_name": "Python 3",
   "language": "python",
   "name": "python3"
  },
  "language_info": {
   "codemirror_mode": {
    "name": "ipython",
    "version": 2
   },
   "file_extension": ".py",
   "mimetype": "text/x-python",
   "name": "python",
   "nbconvert_exporter": "python",
   "pygments_lexer": "ipython2",
   "version": "2.7.6"
  }
 },
 "nbformat": 4,
 "nbformat_minor": 5
}
