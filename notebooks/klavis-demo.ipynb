{
 "cells": [
  {
   "cell_type": "code",
   "execution_count": 1,
   "id": "initial_id",
   "metadata": {
    "collapsed": true,
    "ExecuteTime": {
     "end_time": "2024-05-17T19:26:30.542555Z",
     "start_time": "2024-05-17T19:26:30.465783Z"
    }
   },
   "outputs": [],
   "source": [
    "from flyflowclient import Flyflow\n",
    "\n",
    "client = Flyflow(api_key='demo')"
   ]
  },
  {
   "cell_type": "code",
   "execution_count": 2,
   "outputs": [
    {
     "name": "stdout",
     "output_type": "stream",
     "text": [
      "{'id': 23, 'created_at': '2024-05-17T19:28:40.773547365Z', 'updated_at': '2024-05-17T19:28:40.773547365Z', 'deleted_at': None, 'user_id': 2, 'name': '=Kalvis Demo', 'phone_number': '+14125304421', 'phone_sid': 'PN819dad241008edede1904c81085df531', 'system_prompt': '\"\\n    You are a helpful customer support agent. \\n    \\n    Style Guide \\n        - Be consice and to the point\\n        - For short thoughts, respond in one sentence or less\\n        - Only include one idea at a time in your response\\n        \\n    You job is to help the customer solve the issue with their smart phone \\n    ', 'initial_message': 'Hey there, how can I help you today?', 'llm_model': 'gpt-4o', 'voice_id': 'male-middle-aged-american-casual', 'webhook': 'https://f078-108-27-77-118.ngrok-free.app/webhook', 'tools': [], 'filler_words': True, 'filler_words_whitelist': ['Yeah.', 'Hmm.', 'Sure.', 'Let me see.', 'Alright.', 'Well.', '']}\n"
     ]
    }
   ],
   "source": [
    "agent = client.create_agent(\n",
    "    name='=Kalvis Demo',\n",
    "    system_prompt=\"\"\"\"\n",
    "    You are a helpful customer support agent. \n",
    "    \n",
    "    Style Guide \n",
    "        - Be consice and to the point\n",
    "        - For short thoughts, respond in one sentence or less\n",
    "        - Only include one idea at a time in your response\n",
    "        \n",
    "    You job is to help the customer solve the issue with their smart phone \n",
    "    \"\"\",\n",
    "    initial_message='Hey there, how can I help you today?',\n",
    "    llm_model='gpt-4o',\n",
    "    voice_id='male-middle-aged-american-casual',\n",
    "    webhook='https://f078-108-27-77-118.ngrok-free.app/webhook',\n",
    "    tools=[],\n",
    "    filler_words=True,\n",
    "    filler_words_whitelist=[\"Yeah.\", \"Hmm.\", \"Sure.\", \"Let me see.\", \"Alright.\", \"Well.\", \"\"],\n",
    "    area_code='415'\n",
    ")\n",
    "\n",
    "print(agent)"
   ],
   "metadata": {
    "collapsed": false,
    "ExecuteTime": {
     "end_time": "2024-05-17T19:28:40.784563Z",
     "start_time": "2024-05-17T19:28:37.620873Z"
    }
   },
   "id": "2a466ffa44429292"
  },
  {
   "cell_type": "code",
   "execution_count": 4,
   "outputs": [],
   "source": [
    "call = client.create_call(\n",
    "    to_number='6083547210',\n",
    "    from_number=agent[\"phone_number\"]\n",
    ")"
   ],
   "metadata": {
    "collapsed": false,
    "ExecuteTime": {
     "end_time": "2024-05-18T18:33:42.550299Z",
     "start_time": "2024-05-18T18:33:41.868136Z"
    }
   },
   "id": "1e73e7de3c2e6ed4"
  },
  {
   "cell_type": "code",
   "execution_count": null,
   "outputs": [],
   "source": [
    "client.set_call_context(call[\"id\"], \"some context\")"
   ],
   "metadata": {
    "collapsed": false
   },
   "id": "9f4bf97567279a6a"
  }
 ],
 "metadata": {
  "kernelspec": {
   "display_name": "Python 3",
   "language": "python",
   "name": "python3"
  },
  "language_info": {
   "codemirror_mode": {
    "name": "ipython",
    "version": 2
   },
   "file_extension": ".py",
   "mimetype": "text/x-python",
   "name": "python",
   "nbconvert_exporter": "python",
   "pygments_lexer": "ipython2",
   "version": "2.7.6"
  }
 },
 "nbformat": 4,
 "nbformat_minor": 5
}
