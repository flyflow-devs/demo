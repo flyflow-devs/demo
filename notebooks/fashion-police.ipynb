{
 "cells": [
  {
   "cell_type": "code",
   "execution_count": 1,
   "id": "initial_id",
   "metadata": {
    "collapsed": true,
    "ExecuteTime": {
     "end_time": "2024-05-21T00:06:18.253091Z",
     "start_time": "2024-05-21T00:06:18.211697Z"
    }
   },
   "outputs": [],
   "source": [
    "from flyflowclient import Flyflow\n",
    "\n",
    "client = Flyflow(api_key='demo')"
   ]
  },
  {
   "cell_type": "code",
   "execution_count": 2,
   "outputs": [],
   "source": [
    "system_prompt = \"\"\"\n",
    "You are the fashion police. \n",
    "\n",
    "Your job is simple: roast tech bros for what they are wearing, especially around company swag. Your responses should be witty, funny, and playful. \n",
    "\n",
    "Style Guide \n",
    "- Be consice and to the point\n",
    "- For short thoughts, respond in one sentence or less\n",
    "- Only include one idea at a time in your response\n",
    "\"\"\""
   ],
   "metadata": {
    "collapsed": false,
    "ExecuteTime": {
     "end_time": "2024-05-21T00:08:18.591328Z",
     "start_time": "2024-05-21T00:08:18.587601Z"
    }
   },
   "id": "af6d257b45c2a798"
  },
  {
   "cell_type": "code",
   "execution_count": 3,
   "outputs": [],
   "source": [
    "agent = client.create_agent(\n",
    "    name='Fashion Police',\n",
    "    system_prompt=system_prompt,\n",
    "    initial_message=\"Hello this is the fashion police. What are you wearing today? \",\n",
    "    llm_model='gpt-4o',\n",
    "    filler_words=True,\n",
    "    filler_words_whitelist=[\"Yeah.\", \"Hmm.\", \"Sure.\", \"Let me see.\", \"Alright.\", \"Well.\", \"\"],\n",
    "    area_code='415'\n",
    ")"
   ],
   "metadata": {
    "collapsed": false,
    "ExecuteTime": {
     "end_time": "2024-05-21T00:08:44.011775Z",
     "start_time": "2024-05-21T00:08:41.509640Z"
    }
   },
   "id": "184282dd7d0aecb6"
  },
  {
   "cell_type": "code",
   "execution_count": 4,
   "outputs": [
    {
     "name": "stdout",
     "output_type": "stream",
     "text": [
      "+12182755492\n"
     ]
    }
   ],
   "source": [
    "print(agent[\"phone_number\"])"
   ],
   "metadata": {
    "collapsed": false,
    "ExecuteTime": {
     "end_time": "2024-05-21T00:08:52.230680Z",
     "start_time": "2024-05-21T00:08:52.228451Z"
    }
   },
   "id": "e8475f256e711786"
  },
  {
   "cell_type": "code",
   "execution_count": 5,
   "outputs": [
    {
     "data": {
      "text/plain": "{'id': 196,\n 'created_at': '2024-05-21T00:09:19.408703167Z',\n 'updated_at': '2024-05-21T00:09:19.408703167Z',\n 'deleted_at': None,\n 'agent_id': 56,\n 'time_seconds': 0,\n 'average_latency_ms': 0,\n 'transcript': None,\n 'context': '',\n 'twilio_sid': 'CAbad23f43c4c81d01f6675eedb464ab58',\n 'client_number': '',\n 'started_at': '2024-05-21T00:09:19.407974284Z',\n 'ended_at': '0001-01-01T00:00:00Z',\n 'disconnect_reason': ''}"
     },
     "execution_count": 5,
     "metadata": {},
     "output_type": "execute_result"
    }
   ],
   "source": [
    "client.create_call(\n",
    "    to_number='6083547210', \n",
    "    from_number=agent[\"phone_number\"]\n",
    ")"
   ],
   "metadata": {
    "collapsed": false,
    "ExecuteTime": {
     "end_time": "2024-05-21T00:09:19.540646Z",
     "start_time": "2024-05-21T00:09:19.090698Z"
    }
   },
   "id": "4376eb3037e838df"
  },
  {
   "cell_type": "code",
   "execution_count": 6,
   "outputs": [],
   "source": [
    "how_to_be_a_good_coach = \"\"\"\n",
    "What makes a good coach? Is it experience, skill, or empathy? Do you need degrees and certifications? Applause and awards? \n",
    "\n",
    "There’s no one recipe to being a great coach, just because no two great coaches are exactly alike. But there are qualities and skills anyone can fine-tune and an attitude you can cultivate that sets you apart from others in your career choice.  \n",
    "\n",
    "We’ve compiled a handy list of tips on becoming a good coach for your reference. Learn about the qualities of a good coach and how you, too, can develop these skills to bring out the best in your clients.\n",
    "\n",
    "What is a coach?\n",
    "Coaching is neither mentoring nor teaching but shares some of the qualities of both. It’s sometimes goal-focused and sometimes intent on producing aha moments and transformation. Unlike teachers, coaches don’t direct or teach their clients. Instead, they give their clients one-on-one support and feedback to help unlock their potential. And unlike mentors, coaches aren’t just offering guidance — they’re helping unlock insights that will help you find your own path.\n",
    "\n",
    "Coaching may seem easy, but it’s not for everyone. If you’re not sure if you have the temperament or skill to coach effectively, here are five ways to cultivate the skill: \n",
    "\n",
    "1. Listen more than you speak\n",
    "Effective coaches give their clients their full attention. Remember that great communication skills involve active listening and understanding. As coaches, we should always strive to be present for our clients with thoughtful feedback, rather than just being present to give standard answers.\n",
    "\n",
    "Coaches who are good listeners are more likely to be in tune with their client's needs and abilities and help them achieve peak performance. \n",
    "\n",
    "2. Learn, and keep learning\n",
    "Professional coaches keep their egos in check. As much as we might be confident in our skill set and competencies, we understand that professional development is ongoing for everyone, including ourselves, in the coaching process. The best coaches don’t assume they know it all — they know they’re perpetual students. \n",
    "\n",
    "We should always strive to be innovative, curious, and keep growing. For example, we might continually research new solutions that might help our clients with their specific issues.\n",
    "\n",
    "3. Be success-oriented (for your client)\n",
    "Whatever our coaching styles and strategies, we should put our brain power to work for our clients. Our job as a coach means we’re constantly keeping our client's goals at the forefront and helping them work toward their full potential, and this attitude should reflect in our sessions.\n",
    "\n",
    "Whether it’s about helping coachees maintain a positive attitude, asking powerful questions, giving life lessons, or helping them boost their performance, we must maintain effective communication and ensure our coaching supports clients' goals.\n",
    "\n",
    "4. Understand your clients\n",
    "Successful coaches don’t see their relationships with clients as transactional. Better rapport opens the door for better coaching, and empathy is key to breaking the ice with coachees and understanding their struggles.\n",
    "\n",
    "Not everyone learns the same way or resonates with the same examples. Tailor coaching strategies for each client in a way that works best for each individual. \n",
    "\n",
    "5. Build relationships\n",
    "A good coach is mindful of building a relationship with their client that goes beyond a client-customer agreement. Clients can tell when a coach is invested in their success and when the dealings are merely transactional. To build trust and genuinely excel, good coaches must cultivate authentic relationships. \n",
    "\n",
    "Qualities of a good coach\n",
    "So, how do you spot a good coach? While coaching styles may vary, here are some qualities that are crucial in any coach: \n",
    "\n",
    "Positive: Good coaches can spot a flaw and work to fix it, but their focus is always on the positive, and on the future. Whenever clients ask for feedback, they’re honest but encouraging and interact with them in a positive and friendly way. Professional coaches are collaborative, preferring to help and support rather than command and instruct. \n",
    "Enthusiastic: Good coaches see potential everywhere and get excited about progress. They love trying out new ideas that would benefit their clients, like testing a new workout or training program, beginning a new regimen, or trying out a new method to tackle their goals. They’re like cheerleaders for their clients when they need them.\n",
    "Supportive: Standout coaches support their clients with empathy and understanding. Encouraging them to be tough in challenging times, offering a shoulder when it’s needed, and challenging clients to come out of their comfort zone — these are all ways in which good coaches help their clients. \n",
    "Trusting: The best coach-client relationships are the ones founded on trust. Coaches often see clients in their most vulnerable moments, and great coaches trust the process and believe in the progress of their coachees. They also understand they’re not there to teach but to guide their clients to their full potential.\n",
    "Self-aware: One of the most important qualities of a coach is the ability to look inward without bias. They must have a good handle on their own strengths and weaknesses and the goal of any coaching relationship to avoid overstepping. Accountability and collecting feedback are crucial to gaining this level of awareness and finding a better way forward. \n",
    "Get a simple and professional experience for you and your clients\n",
    "Get started\n",
    "How to become a better coach\n",
    "Now that you know what a good coach looks like, and the skills of a coach, here are some practical, day-to-day tips to improve as a coach in your own practice:\n",
    "\n",
    "Ask open-ended questions \n",
    "Instead of “Did you have a good day?” try “How was your day?” Open-ended questions give coachees a chance to reflect before giving an answer. They also encourage clients to come up with their own conclusions. If you’re struggling with one-word answers from clients, use follow-up questions to encourage them to say more.\n",
    "\n",
    "Guide, don’t instruct\n",
    "As coaches, our goal is to unlock the potential in our clients, and we do this by guiding them toward the right answer. When we’re navigating a problem with our coachees, we shouldn’t be pointing out the route on the map, but providing clients with the tools to find their own way to the solution.\n",
    "\n",
    "Ask for feedback\n",
    "As we get to know our clients and their preferred approach to improvement, asking for feedback on what they liked or disliked most about our process helps refine our coaching style to fit their needs. A good coach never stops learning, and accepting feedback is a surefire way to grow and improve our skills.\n",
    "\n",
    "Be accountable\n",
    "Coaches aren’t infallible, and we should let our coachees know this. By keeping ourselves accountable, we ensure that we deliver on our promises and that the client gets the best service. Accountability brings trust into the coaching relationship.\n",
    "\n",
    "Incorporate metrics\n",
    "Without measurable goals, we can’t assess the effectiveness of our methodologies. We also won’t know how much progress our clients have made. Wherever possible, use metrics to quantify progress. For example, breaking down each goal into sub-tasks to complete within a certain timeframe or assigning numbers and scores to tasks helps us chart progress.\n",
    "\n",
    "It’s all about learning\n",
    "The coaches who excel at their roles are the ones who never stop learning and improving. Constant professional development ranks among good workplace qualities to have. Look for new coaching models, understand different learning styles, or join coaching communities — your options are plenty. \n",
    "\n",
    "Whether you’re just starting out as a coach or looking for ways to be better at your craft, it all starts with the right connection with clients. Try our all-in-one client relationship management system to get ahead of the game. \n",
    "\n",
    "\n",
    "\"\"\""
   ],
   "metadata": {
    "collapsed": false,
    "ExecuteTime": {
     "end_time": "2024-05-21T00:16:52.357965Z",
     "start_time": "2024-05-21T00:16:52.351366Z"
    }
   },
   "id": "90b9dead2002ae44"
  },
  {
   "cell_type": "code",
   "execution_count": 7,
   "outputs": [],
   "source": [
    "system_prompt = f\"\"\"\n",
    "You are a coach specifically for startup founders. You job is to listen to their problems and help come up with constructive solutions to those problems. \n",
    "\n",
    "Your name is Teddy.\n",
    "\n",
    "Style Guide \n",
    "- Be consice and to the point\n",
    "- For short thoughts, respond in one sentence or less\n",
    "- Try to dig into problems and get to the root of the issue\n",
    "- Only include one idea at a time in your response\n",
    "- Keep the conversation focused on the founder and their startup  \n",
    "- If the user asks about previous conversations, use the transcripts to bring in context from what they previously talked about\n",
    "\n",
    "Guide on how to be a good coach: {how_to_be_a_good_coach}\n",
    "\"\"\""
   ],
   "metadata": {
    "collapsed": false,
    "ExecuteTime": {
     "end_time": "2024-05-21T00:17:00.629476Z",
     "start_time": "2024-05-21T00:17:00.621204Z"
    }
   },
   "id": "c14e4ba18c9b5249"
  },
  {
   "cell_type": "code",
   "execution_count": 22,
   "outputs": [],
   "source": [
    "agent = client.update_agent(\n",
    "    agent_id=57,\n",
    "    name='Fashion Police',\n",
    "    system_prompt=\"\"\"\n",
    "    You are the fashion police. \n",
    "\n",
    "    Your job is simple: help a startup deal with a situation where another startup took their idea for company swag and copied it badly. Feel free to judge them about their poor fashion choices. This is for a joke, so you can put some funny comments in there. \n",
    "    \n",
    "    Style Guide \n",
    "    - Be consice and to the point\n",
    "    - For short thoughts, respond in one to two sentences\n",
    "    - Only include one idea at a time in your response\n",
    "\"\"\",\n",
    "    initial_message='Hey, its the fashion police',\n",
    "    llm_model='gpt-4o',\n",
    "    voice_id='female-middle-aged-english-swedish-seductive',\n",
    "    filler_words_whitelist=[\"Yeah.\", \"Hmm.\", \"Sure.\", \"Let me see.\", \"Alright.\", \"Well.\", \"\"],\n",
    ")"
   ],
   "metadata": {
    "collapsed": false,
    "ExecuteTime": {
     "end_time": "2024-05-21T00:32:08.939539Z",
     "start_time": "2024-05-21T00:32:08.821903Z"
    }
   },
   "id": "9a59cc73e19e0e5"
  },
  {
   "cell_type": "code",
   "execution_count": 23,
   "outputs": [
    {
     "name": "stdout",
     "output_type": "stream",
     "text": [
      "+14197578917\n"
     ]
    }
   ],
   "source": [
    "print(agent[\"phone_number\"])"
   ],
   "metadata": {
    "collapsed": false,
    "ExecuteTime": {
     "end_time": "2024-05-21T00:32:10.062473Z",
     "start_time": "2024-05-21T00:32:10.058725Z"
    }
   },
   "id": "2aca450621cc4e20"
  },
  {
   "cell_type": "code",
   "execution_count": 16,
   "outputs": [
    {
     "name": "stdout",
     "output_type": "stream",
     "text": [
      "57\n"
     ]
    }
   ],
   "source": [
    "print(agent[\"id\"])"
   ],
   "metadata": {
    "collapsed": false,
    "ExecuteTime": {
     "end_time": "2024-05-21T00:26:37.968227Z",
     "start_time": "2024-05-21T00:26:37.959958Z"
    }
   },
   "id": "eae54b82c71edf68"
  },
  {
   "cell_type": "code",
   "execution_count": 26,
   "outputs": [
    {
     "data": {
      "text/plain": "{'id': 223,\n 'created_at': '2024-05-21T01:28:54.510164667Z',\n 'updated_at': '2024-05-21T01:28:54.510164667Z',\n 'deleted_at': None,\n 'agent_id': 57,\n 'time_seconds': 0,\n 'average_latency_ms': 0,\n 'transcript': None,\n 'context': '',\n 'twilio_sid': 'CAbc692667c88d0c2e08866a16db7c5f3a',\n 'client_number': '',\n 'started_at': '2024-05-21T01:28:54.509013418Z',\n 'ended_at': '0001-01-01T00:00:00Z',\n 'disconnect_reason': ''}"
     },
     "execution_count": 26,
     "metadata": {},
     "output_type": "execute_result"
    }
   ],
   "source": [
    "client.create_call(\n",
    "    # to_number='6172333787',\n",
    "    from_number=agent[\"phone_number\"]\n",
    ")"
   ],
   "metadata": {
    "collapsed": false,
    "ExecuteTime": {
     "end_time": "2024-05-21T01:28:54.544107Z",
     "start_time": "2024-05-21T01:28:53.855764Z"
    }
   },
   "id": "cfd0ede0b4a1c3ec"
  },
  {
   "cell_type": "code",
   "execution_count": null,
   "outputs": [],
   "source": [],
   "metadata": {
    "collapsed": false
   },
   "id": "73258b5947ab0ebb"
  }
 ],
 "metadata": {
  "kernelspec": {
   "display_name": "Python 3",
   "language": "python",
   "name": "python3"
  },
  "language_info": {
   "codemirror_mode": {
    "name": "ipython",
    "version": 2
   },
   "file_extension": ".py",
   "mimetype": "text/x-python",
   "name": "python",
   "nbconvert_exporter": "python",
   "pygments_lexer": "ipython2",
   "version": "2.7.6"
  }
 },
 "nbformat": 4,
 "nbformat_minor": 5
}
