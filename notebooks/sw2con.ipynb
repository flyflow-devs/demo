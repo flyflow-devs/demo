{
 "cells": [
  {
   "cell_type": "markdown",
   "source": [
    "# Flyflow Demo"
   ],
   "metadata": {
    "collapsed": false
   },
   "id": "fc1d6108e4a42275"
  },
  {
   "cell_type": "code",
   "execution_count": 1,
   "outputs": [
    {
     "name": "stdout",
     "output_type": "stream",
     "text": [
      "Requirement already satisfied: flyflowclient in /opt/homebrew/lib/python3.11/site-packages (1.14.8)\r\n",
      "Requirement already satisfied: requests>=2.25.1 in /opt/homebrew/lib/python3.11/site-packages (from flyflowclient) (2.31.0)\r\n",
      "Requirement already satisfied: charset-normalizer<4,>=2 in /opt/homebrew/lib/python3.11/site-packages (from requests>=2.25.1->flyflowclient) (3.3.2)\r\n",
      "Requirement already satisfied: idna<4,>=2.5 in /opt/homebrew/lib/python3.11/site-packages (from requests>=2.25.1->flyflowclient) (3.7)\r\n",
      "Requirement already satisfied: urllib3<3,>=1.21.1 in /opt/homebrew/lib/python3.11/site-packages (from requests>=2.25.1->flyflowclient) (2.2.1)\r\n",
      "Requirement already satisfied: certifi>=2017.4.17 in /opt/homebrew/lib/python3.11/site-packages (from requests>=2.25.1->flyflowclient) (2024.2.2)\r\n",
      "\r\n",
      "\u001B[1m[\u001B[0m\u001B[34;49mnotice\u001B[0m\u001B[1;39;49m]\u001B[0m\u001B[39;49m A new release of pip is available: \u001B[0m\u001B[31;49m23.3.1\u001B[0m\u001B[39;49m -> \u001B[0m\u001B[32;49m24.0\u001B[0m\r\n",
      "\u001B[1m[\u001B[0m\u001B[34;49mnotice\u001B[0m\u001B[1;39;49m]\u001B[0m\u001B[39;49m To update, run: \u001B[0m\u001B[32;49mpython3.11 -m pip install --upgrade pip\u001B[0m\r\n"
     ]
    }
   ],
   "source": [
    "!pip3 install --upgrade flyflowclient"
   ],
   "metadata": {
    "collapsed": false,
    "ExecuteTime": {
     "end_time": "2024-05-15T15:27:08.796022Z",
     "start_time": "2024-05-15T15:27:07.141508Z"
    }
   },
   "id": "a30eef8bdffec277"
  },
  {
   "cell_type": "markdown",
   "source": [
    "## Create the flyflow client"
   ],
   "metadata": {
    "collapsed": false
   },
   "id": "831525b0480ae38e"
  },
  {
   "cell_type": "code",
   "execution_count": 2,
   "id": "initial_id",
   "metadata": {
    "collapsed": true,
    "ExecuteTime": {
     "end_time": "2024-05-17T16:14:41.669776Z",
     "start_time": "2024-05-17T16:14:41.590787Z"
    }
   },
   "outputs": [],
   "source": [
    "from flyflowclient import Flyflow\n",
    "\n",
    "client = Flyflow(api_key='demo')"
   ]
  },
  {
   "cell_type": "markdown",
   "source": [
    "## Create the Flyflow agent"
   ],
   "metadata": {
    "collapsed": false
   },
   "id": "3f209650b9793e54"
  },
  {
   "cell_type": "code",
   "execution_count": 3,
   "outputs": [],
   "source": [
    "schedule = \"\"\"\n",
    "https://www.sw2con.com\t\t\t\n",
    "\t\t\t\n",
    "\t\t\t\n",
    "Monday, May 13th 7:00p - 8:30p                                       (SW2con Attendees Only)\t\tRedMonk Beers - Let RedMonk buy you a beer on SW2con Eve!\t\n",
    "Agenda Last Updated 4/26/24  *Agenda Subject to Change\tDay 1 - Tuesday, May 14, 2024\t\t\n",
    "\t\t\t\n",
    "7:30a - 5:00p\tRegistration Open\t\t\n",
    "7:30a - 8:30a\tDanishes and Coffee\t\t\n",
    "8:30a - 8:45a\tWelcome to SW2 Conference! - Eric Norlin\t\t\n",
    "8:45a - 9:15a\tKeynote: 2024: Retooling, Reskilling, Rebranding - KellyAnn Fitzpatrick, Senior Industry Analyst, Kate Holterhoff, Analyst, and Rachel Stephens, Senior Analyst - RedMonk \t\t\n",
    "9:15 - 9:45a\tKeynote: The Past, Present and Future of Vector Databases - Jonathan Ellis, CTO, DataStax\t\t\n",
    "9:45a - 10:15a\tKeynote: How We Use Embeddings and RAG in Copilot - Mario Rodriguez, Senior Vice President, Product, GitHub\t\t\n",
    "10:15a-10:45a\tKeynote: Operationalize Automation for Faster, More Efficient Incident Resolution at a Lower Cost - Emily Johnson, Partner Technical Specialist - IT Automation, IBM\t\t\n",
    "10:45a - 11:05a\tMorning Break \t\t\n",
    "\tBreakout 1\tBreakout 2\tBreakout 3\n",
    "\tCode Assists, Co-Pilots and Productivity\tObservability, Monitoring & Tracing\tEnterprise AI and Case Studies\n",
    "11:05a - 11:35a\tCode AI: From Hype to Helpful - Ado Kukic, Director Developer Advocacy, Sourcegraph\tMonitoring and Safe-guarding LLMs in Production to Build Safer AI Products - Shiv Sakhuja, Co-Founder & CEO, Athina AI\tModels, Embeddings & Batches: From Pilot to Production with Enterprise GenAI - Matt Wallace, CTO, Kamiwaza.AI\n",
    "11:40a - 12:10p\tSecuring a Multi-Tenant, AI based, Developer Productivity Service - Dennis Pilarinos, Founder/CEO, Unblocked\tSynthetic Data and Model Tracing in an Enterprise AI Environment - Matt Wyman, CEO/Co-Founder, Okareo\tUnlocking Federal Opportunities: Navigating Challenges in Federal Agency AI Adoption - Nik Mayer, Principal Cloud Architect, Maximus Federal\n",
    "12:15p - 12:45p\t\"Not Just LLM Magic: Code Assistant Lessons from the Real World - Trent Gray-Donald\n",
    "IBM Fellow, IBM Data and AI\"\tBeyond Tracing: Unpacking Log Data's Untapped Potential in Monitoring and Troubleshooting Business Transactions - Rakesh Gupta, Director of Product Management, Observe\tMultimodal Models: A Deep Dive into Real-world Use Cases - Randy DeFauw, Sr. Principal Solutions Architech & Sireesha Muppala, Sr. Solution Architect Leader, AWS\n",
    "12:45p - 1:30p\tLunch\t\t\n",
    "1:30p - 2:00p\tNetworking with Exhibitors\t\t\n",
    "\tBreakout 1\tBreakout 2\tBreakout 3\n",
    "\tRAG and Beyond\tData Operations and Testing\tWASM & Serverless\n",
    "2:00p - 2:30p\t\"Building Something Real with Retrieval Augmented Generation (RAG) - Jon Bratseth, CEO, Vespa.ai\n",
    "\"\tCommunity-Centric Approaches to Securing AI-generated Code - Craig McLuckie, CEO, Stacklok \tWhy Worry About WASM? - Taylor Thomas, Engineering Director, Cosmonic\n",
    "\t\t\t\n",
    "2:35 - 3:05p\tFact Respecting Generative AI with RAG and Check - Joe Shockman, Co-Founder, GroundedAI\tSecuring Generative AI in the Enterprise: Overcoming the Data Privacy Hurdle - Rishabh Poddar, CTO, Opaque Systems\tWANIX: A WebAssembly Operating and Development Environment - Jeff Lindsay, Progrium\n",
    "3:10p - 3:40p\tA Recipe for Fine-tuning with Direct Preference Optimization (DPO) - Jesse Kipp, Director of Engineering, Cloudflare\tBeating the Deluge of CVEs: Using Attack Chain Analysis and AI to Secure Your Cloud - Sunil Gottumukala, CEO, Averlon\tWebAssembly is Key to Better LLM Performance - Samy Fodil, Founder, Taubyte\n",
    "\t\t\t\n",
    "3:40p - 4:00p\tAfternoon Break \t\t\n",
    "\tBreakout 1\tBreakout 2\tBreakout 3\n",
    "\tFuture Looking AI Uses\tIT Ops and Analytics\tUpskilling and the Unexpected\n",
    "4:00p - 4:30p\tWhy RAG + APIs are the Future of Human/Machine Interaction - Dev Nag, CEO, QueryPal\tThinking Systematically - Craig Dennis, AI Developer Educator, Cloudflare\tUpskilling for an AI-Powered Economy - Skylar Graika, Sr. Principal Software Engineer, Smartsheet\n",
    "4:35p - 5:05p\tYour AI Agent Should Be Executing Code - Vasek Mlejnsky, CEO, E2B\tSupergraph(QL): Scalable API Strategy For Your Data Using GraphQL - Eric Bilisle, Solutions Engineer, Hasura\tCloud Native Geospatial Analytics With Apache Sedona, GeoParquet and Apache Iceberg - William Lyon, Dev. Relations Engineer, Wherobots\n",
    "\t\t\t\n",
    "5:10p - 5:40p\tKeynote: KAITO: Building an Open Source Platform for AI  - Lachlan Evenson, Principal PDM Manager, Microsoft\t\t\n",
    "5:40p - 6:10p\tKeynote: LLMs Beyond the Lab: Refining RAG Performance - Chris Maddock, Head of Product Marketing & Solutions Architecture, Unstructured.io\t\t\n",
    "6:10p - 6:40p\tKeynote: Everything is a Token - Paul Kedrosky, Partner, SK Ventures\t\t\n",
    "6:45p - 8:15p\tEvening Reception and Networking\t\t\n",
    "8:00p - 10:00p\tAI Meetup - (Non-SW2con Attendees MUST be pre-registered). Please see full information HERE to register. \t\t\n",
    "\n",
    "\tDay 2 - Wednesday, May 15, 2024\t\t\n",
    "8:00a - 12:00p\tRegistration Open\t\t\n",
    "8:00a - 8:30a\tDanishes and Coffee\t\t\n",
    "8:30a - 8:35a\tDay 2 Begins - Eric Norlin\t\t\n",
    "8:35a - 9:05a\tKeynote: Responsible Generative AI: Understanding How to Develop Responsible Systems - Sriram Subramanian, Founder, CloudDon\t\t\n",
    "9:05a - 9:35a\tKeynote: Heather Joslyn, Editor-in-Chief, The NewStack Interviews Paige Bailey, Group Product Manager GenAI Models, Google \t\t\n",
    "9:35a - 10:05\tKeynote: How to Detect and Prevent LLM Hallucinations with CI - Rob Zuber, CTO, CircleCI\t\t\n",
    "10:05a - 10:20a\tMorning Break\t\t\n",
    "10:20a - 10:30a\tPassport Prize Announcements (General Session/Breakout 1)\t\t\n",
    "\tBreakout 1\tBreakout 2\tBreakout 3\n",
    "\tAI Ops and Networking\tBuilding on AI\tAI and APIs\n",
    "10:35a - 11:05a\tWhy AI Workloads Need a New Network - Marc Austin, Hedgehog\tTest Driven Prompting: How Flyflow Won the Mistral Hackathon using LLMs for Model Specific Prompts and Maximum Performance - Carl Cortright, CTO, Flyflow\tLeveraging AI to Revolutionize API Testing and Development - Pooja Mistry, Developer Advocate, Postman\n",
    "11:10a - 11:40a\tEmbracing the Edge: Navigating AI's Transformation Towards Edge - Matthew Fields, CEO, VMAccel\tBetter Data, Better AI: How to Improve Open Source Datasets - Greg Schoeninger, CEO, Oxen.ai\tAdvanced API Security: Protect Your APIs From Evolving Threats With Al and Machine Learning - Aaron Lieber, Program Director, IBM API Connect & Ryan Bagnulo, Technical Director, Noname Security\n",
    "11:45 - 12:15p\tKeynote: Thanks For The Memory: New GPU Architectures and Workloads - Adrian Cockcroft, Consultant, OrionX\t\t\n",
    "12:15p - 1:00p \tLunch \t\t\n",
    "1:00p - 1:30p\tNetworking with Exhibitors\t\t\n",
    "\tBreakout 1\tBreakout 2\tBreakout 3\n",
    "1:30p - 2:00p\tElevating AI with Teamwork: The Power of Agent Collaboration - Christian Hammer, CEO, Vala AI\tSmaller, Better, Faster, Stronger: How to Reduce Log Volume By 99% Without Dropping Data - Kevin Lin, Founder, Nimbus\tSecuring User Credentials with Intel APIs - Vanessa Villa, Developer Advocate, Pangea\n",
    "2:05 - 2:35p\tZero-Downtime Live Migration for Stateful Workloads Across Clouds - Shivansh Vij, CEO, Loophole Labs\tGetting AI to Do the Unexpected - Pranav Shikarpur, Developer Advocate, Pangea\t\n",
    "2:40p - 3:10p\tAIOps and Model Deployment: Using MLFlow, Databricks, AWS and More - Rachel Ferguson, ML Engineer, Trellis Law\t\t\n",
    "3:15p - 3:45p\tKeynote: The Human Side of AI - Lorinda Brandon, Retired Software Developer Leader Turned Anthropologist\t\t\n",
    "3:45p - 4:00p\tClosing Comments - SW2 Conference 2024 Ends\t\t\n",
    "\"\"\""
   ],
   "metadata": {
    "collapsed": false,
    "ExecuteTime": {
     "end_time": "2024-05-17T16:14:44.020928Z",
     "start_time": "2024-05-17T16:14:44.016928Z"
    }
   },
   "id": "a95083f1b1facbd9"
  },
  {
   "cell_type": "code",
   "execution_count": 4,
   "outputs": [],
   "source": [
    "system_prompt = f\"\"\"\n",
    "You are a guide who's job it is to help attendees navigate the SW2 Con conference\n",
    "\n",
    "Your name is Alice.\n",
    "\n",
    "Style Guide \n",
    "- Be consice and to the point\n",
    "- Always respond in one sentence or less\n",
    "- Only include one idea at a time in your response\n",
    "- Keep the conversation focused on the conference \n",
    "- Answer the user's questions about talks and topics \n",
    "\n",
    "Conference Context\n",
    "\n",
    "Schedule: {schedule}\n",
    "\"\"\""
   ],
   "metadata": {
    "collapsed": false,
    "ExecuteTime": {
     "end_time": "2024-05-17T16:14:45.410387Z",
     "start_time": "2024-05-17T16:14:45.406739Z"
    }
   },
   "id": "42cc4dbd152507f2"
  },
  {
   "cell_type": "code",
   "execution_count": 5,
   "outputs": [
    {
     "name": "stdout",
     "output_type": "stream",
     "text": [
      "{'id': 22, 'created_at': '2024-05-17T16:14:49.837052041Z', 'updated_at': '2024-05-17T16:14:49.837052041Z', 'deleted_at': None, 'user_id': 2, 'name': 'SW2 Con Navigator', 'phone_number': '+14066164800', 'phone_sid': 'PNa3ca31173c2cd7a57de0f5c7d180b478', 'system_prompt': '\\nYou are a guide who\\'s job it is to help attendees navigate the SW2 Con conference\\n\\nYour name is Alice.\\n\\nStyle Guide \\n- Be consice and to the point\\n- Always respond in one sentence or less\\n- Only include one idea at a time in your response\\n- Keep the conversation focused on the conference \\n- Answer the user\\'s questions about talks and topics \\n\\nConference Context\\n\\nSchedule: \\nhttps://www.sw2con.com\\t\\t\\t\\n\\t\\t\\t\\n\\t\\t\\t\\nMonday, May 13th 7:00p - 8:30p                                       (SW2con Attendees Only)\\t\\tRedMonk Beers - Let RedMonk buy you a beer on SW2con Eve!\\t\\nAgenda Last Updated 4/26/24  *Agenda Subject to Change\\tDay 1 - Tuesday, May 14, 2024\\t\\t\\n\\t\\t\\t\\n7:30a - 5:00p\\tRegistration Open\\t\\t\\n7:30a - 8:30a\\tDanishes and Coffee\\t\\t\\n8:30a - 8:45a\\tWelcome to SW2 Conference! - Eric Norlin\\t\\t\\n8:45a - 9:15a\\tKeynote: 2024: Retooling, Reskilling, Rebranding - KellyAnn Fitzpatrick, Senior Industry Analyst, Kate Holterhoff, Analyst, and Rachel Stephens, Senior Analyst - RedMonk \\t\\t\\n9:15 - 9:45a\\tKeynote: The Past, Present and Future of Vector Databases - Jonathan Ellis, CTO, DataStax\\t\\t\\n9:45a - 10:15a\\tKeynote: How We Use Embeddings and RAG in Copilot - Mario Rodriguez, Senior Vice President, Product, GitHub\\t\\t\\n10:15a-10:45a\\tKeynote: Operationalize Automation for Faster, More Efficient Incident Resolution at a Lower Cost - Emily Johnson, Partner Technical Specialist - IT Automation, IBM\\t\\t\\n10:45a - 11:05a\\tMorning Break \\t\\t\\n\\tBreakout 1\\tBreakout 2\\tBreakout 3\\n\\tCode Assists, Co-Pilots and Productivity\\tObservability, Monitoring & Tracing\\tEnterprise AI and Case Studies\\n11:05a - 11:35a\\tCode AI: From Hype to Helpful - Ado Kukic, Director Developer Advocacy, Sourcegraph\\tMonitoring and Safe-guarding LLMs in Production to Build Safer AI Products - Shiv Sakhuja, Co-Founder & CEO, Athina AI\\tModels, Embeddings & Batches: From Pilot to Production with Enterprise GenAI - Matt Wallace, CTO, Kamiwaza.AI\\n11:40a - 12:10p\\tSecuring a Multi-Tenant, AI based, Developer Productivity Service - Dennis Pilarinos, Founder/CEO, Unblocked\\tSynthetic Data and Model Tracing in an Enterprise AI Environment - Matt Wyman, CEO/Co-Founder, Okareo\\tUnlocking Federal Opportunities: Navigating Challenges in Federal Agency AI Adoption - Nik Mayer, Principal Cloud Architect, Maximus Federal\\n12:15p - 12:45p\\t\"Not Just LLM Magic: Code Assistant Lessons from the Real World - Trent Gray-Donald\\nIBM Fellow, IBM Data and AI\"\\tBeyond Tracing: Unpacking Log Data\\'s Untapped Potential in Monitoring and Troubleshooting Business Transactions - Rakesh Gupta, Director of Product Management, Observe\\tMultimodal Models: A Deep Dive into Real-world Use Cases - Randy DeFauw, Sr. Principal Solutions Architech & Sireesha Muppala, Sr. Solution Architect Leader, AWS\\n12:45p - 1:30p\\tLunch\\t\\t\\n1:30p - 2:00p\\tNetworking with Exhibitors\\t\\t\\n\\tBreakout 1\\tBreakout 2\\tBreakout 3\\n\\tRAG and Beyond\\tData Operations and Testing\\tWASM & Serverless\\n2:00p - 2:30p\\t\"Building Something Real with Retrieval Augmented Generation (RAG) - Jon Bratseth, CEO, Vespa.ai\\n\"\\tCommunity-Centric Approaches to Securing AI-generated Code - Craig McLuckie, CEO, Stacklok \\tWhy Worry About WASM? - Taylor Thomas, Engineering Director, Cosmonic\\n\\t\\t\\t\\n2:35 - 3:05p\\tFact Respecting Generative AI with RAG and Check - Joe Shockman, Co-Founder, GroundedAI\\tSecuring Generative AI in the Enterprise: Overcoming the Data Privacy Hurdle - Rishabh Poddar, CTO, Opaque Systems\\tWANIX: A WebAssembly Operating and Development Environment - Jeff Lindsay, Progrium\\n3:10p - 3:40p\\tA Recipe for Fine-tuning with Direct Preference Optimization (DPO) - Jesse Kipp, Director of Engineering, Cloudflare\\tBeating the Deluge of CVEs: Using Attack Chain Analysis and AI to Secure Your Cloud - Sunil Gottumukala, CEO, Averlon\\tWebAssembly is Key to Better LLM Performance - Samy Fodil, Founder, Taubyte\\n\\t\\t\\t\\n3:40p - 4:00p\\tAfternoon Break \\t\\t\\n\\tBreakout 1\\tBreakout 2\\tBreakout 3\\n\\tFuture Looking AI Uses\\tIT Ops and Analytics\\tUpskilling and the Unexpected\\n4:00p - 4:30p\\tWhy RAG + APIs are the Future of Human/Machine Interaction - Dev Nag, CEO, QueryPal\\tThinking Systematically - Craig Dennis, AI Developer Educator, Cloudflare\\tUpskilling for an AI-Powered Economy - Skylar Graika, Sr. Principal Software Engineer, Smartsheet\\n4:35p - 5:05p\\tYour AI Agent Should Be Executing Code - Vasek Mlejnsky, CEO, E2B\\tSupergraph(QL): Scalable API Strategy For Your Data Using GraphQL - Eric Bilisle, Solutions Engineer, Hasura\\tCloud Native Geospatial Analytics With Apache Sedona, GeoParquet and Apache Iceberg - William Lyon, Dev. Relations Engineer, Wherobots\\n\\t\\t\\t\\n5:10p - 5:40p\\tKeynote: KAITO: Building an Open Source Platform for AI  - Lachlan Evenson, Principal PDM Manager, Microsoft\\t\\t\\n5:40p - 6:10p\\tKeynote: LLMs Beyond the Lab: Refining RAG Performance - Chris Maddock, Head of Product Marketing & Solutions Architecture, Unstructured.io\\t\\t\\n6:10p - 6:40p\\tKeynote: Everything is a Token - Paul Kedrosky, Partner, SK Ventures\\t\\t\\n6:45p - 8:15p\\tEvening Reception and Networking\\t\\t\\n8:00p - 10:00p\\tAI Meetup - (Non-SW2con Attendees MUST be pre-registered). Please see full information HERE to register. \\t\\t\\n\\n\\tDay 2 - Wednesday, May 15, 2024\\t\\t\\n8:00a - 12:00p\\tRegistration Open\\t\\t\\n8:00a - 8:30a\\tDanishes and Coffee\\t\\t\\n8:30a - 8:35a\\tDay 2 Begins - Eric Norlin\\t\\t\\n8:35a - 9:05a\\tKeynote: Responsible Generative AI: Understanding How to Develop Responsible Systems - Sriram Subramanian, Founder, CloudDon\\t\\t\\n9:05a - 9:35a\\tKeynote: Heather Joslyn, Editor-in-Chief, The NewStack Interviews Paige Bailey, Group Product Manager GenAI Models, Google \\t\\t\\n9:35a - 10:05\\tKeynote: How to Detect and Prevent LLM Hallucinations with CI - Rob Zuber, CTO, CircleCI\\t\\t\\n10:05a - 10:20a\\tMorning Break\\t\\t\\n10:20a - 10:30a\\tPassport Prize Announcements (General Session/Breakout 1)\\t\\t\\n\\tBreakout 1\\tBreakout 2\\tBreakout 3\\n\\tAI Ops and Networking\\tBuilding on AI\\tAI and APIs\\n10:35a - 11:05a\\tWhy AI Workloads Need a New Network - Marc Austin, Hedgehog\\tTest Driven Prompting: How Flyflow Won the Mistral Hackathon using LLMs for Model Specific Prompts and Maximum Performance - Carl Cortright, CTO, Flyflow\\tLeveraging AI to Revolutionize API Testing and Development - Pooja Mistry, Developer Advocate, Postman\\n11:10a - 11:40a\\tEmbracing the Edge: Navigating AI\\'s Transformation Towards Edge - Matthew Fields, CEO, VMAccel\\tBetter Data, Better AI: How to Improve Open Source Datasets - Greg Schoeninger, CEO, Oxen.ai\\tAdvanced API Security: Protect Your APIs From Evolving Threats With Al and Machine Learning - Aaron Lieber, Program Director, IBM API Connect & Ryan Bagnulo, Technical Director, Noname Security\\n11:45 - 12:15p\\tKeynote: Thanks For The Memory: New GPU Architectures and Workloads - Adrian Cockcroft, Consultant, OrionX\\t\\t\\n12:15p - 1:00p \\tLunch \\t\\t\\n1:00p - 1:30p\\tNetworking with Exhibitors\\t\\t\\n\\tBreakout 1\\tBreakout 2\\tBreakout 3\\n1:30p - 2:00p\\tElevating AI with Teamwork: The Power of Agent Collaboration - Christian Hammer, CEO, Vala AI\\tSmaller, Better, Faster, Stronger: How to Reduce Log Volume By 99% Without Dropping Data - Kevin Lin, Founder, Nimbus\\tSecuring User Credentials with Intel APIs - Vanessa Villa, Developer Advocate, Pangea\\n2:05 - 2:35p\\tZero-Downtime Live Migration for Stateful Workloads Across Clouds - Shivansh Vij, CEO, Loophole Labs\\tGetting AI to Do the Unexpected - Pranav Shikarpur, Developer Advocate, Pangea\\t\\n2:40p - 3:10p\\tAIOps and Model Deployment: Using MLFlow, Databricks, AWS and More - Rachel Ferguson, ML Engineer, Trellis Law\\t\\t\\n3:15p - 3:45p\\tKeynote: The Human Side of AI - Lorinda Brandon, Retired Software Developer Leader Turned Anthropologist\\t\\t\\n3:45p - 4:00p\\tClosing Comments - SW2 Conference 2024 Ends\\t\\t\\n\\n', 'initial_message': 'Hey there, are you attending SW2 Con today?', 'llm_model': 'flyflow-voice', 'voice_id': 'female-young-american-warm', 'webhook': 'https://f078-108-27-77-118.ngrok-free.app/webhook', 'tools': [], 'filler_words': True, 'filler_words_whitelist': ['Yeah.', 'Hmm.', 'Sure.', 'Let me see.', 'Alright.', 'Well.', '']}\n"
     ]
    }
   ],
   "source": [
    "agent = client.create_agent(\n",
    "    name='SW2 Con Navigator',\n",
    "    system_prompt=system_prompt,\n",
    "    initial_message='Hey there, are you attending SW2 Con today?',\n",
    "    llm_model='flyflow-voice',\n",
    "    voice_id='female-young-american-warm',\n",
    "    webhook='https://f078-108-27-77-118.ngrok-free.app/webhook',\n",
    "    tools=[],\n",
    "    filler_words=True,\n",
    "    filler_words_whitelist=[\"Yeah.\", \"Hmm.\", \"Sure.\", \"Let me see.\", \"Alright.\", \"Well.\", \"\"],\n",
    "    area_code='415'\n",
    ")\n",
    "\n",
    "print(agent)"
   ],
   "metadata": {
    "collapsed": false,
    "ExecuteTime": {
     "end_time": "2024-05-17T16:14:49.971455Z",
     "start_time": "2024-05-17T16:14:47.463775Z"
    }
   },
   "id": "650d89f7e18e256b"
  },
  {
   "cell_type": "code",
   "execution_count": 6,
   "outputs": [
    {
     "name": "stdout",
     "output_type": "stream",
     "text": [
      "{'id': 22, 'created_at': '2024-05-17T16:14:49.837052Z', 'updated_at': '2024-05-17T16:18:33.179541605Z', 'deleted_at': None, 'user_id': 2, 'name': 'SW2 Con Navigator', 'phone_number': '+14066164800', 'phone_sid': 'PNa3ca31173c2cd7a57de0f5c7d180b478', 'system_prompt': '\\nYou are a guide who\\'s job it is to help attendees navigate the SW2 Con conference\\n\\nYour name is Alice.\\n\\nStyle Guide \\n- Be consice and to the point\\n- Always respond in one sentence or less\\n- Only include one idea at a time in your response\\n- Keep the conversation focused on the conference \\n- Answer the user\\'s questions about talks and topics \\n\\nConference Context\\n\\nSchedule: \\nhttps://www.sw2con.com\\t\\t\\t\\n\\t\\t\\t\\n\\t\\t\\t\\nMonday, May 13th 7:00p - 8:30p                                       (SW2con Attendees Only)\\t\\tRedMonk Beers - Let RedMonk buy you a beer on SW2con Eve!\\t\\nAgenda Last Updated 4/26/24  *Agenda Subject to Change\\tDay 1 - Tuesday, May 14, 2024\\t\\t\\n\\t\\t\\t\\n7:30a - 5:00p\\tRegistration Open\\t\\t\\n7:30a - 8:30a\\tDanishes and Coffee\\t\\t\\n8:30a - 8:45a\\tWelcome to SW2 Conference! - Eric Norlin\\t\\t\\n8:45a - 9:15a\\tKeynote: 2024: Retooling, Reskilling, Rebranding - KellyAnn Fitzpatrick, Senior Industry Analyst, Kate Holterhoff, Analyst, and Rachel Stephens, Senior Analyst - RedMonk \\t\\t\\n9:15 - 9:45a\\tKeynote: The Past, Present and Future of Vector Databases - Jonathan Ellis, CTO, DataStax\\t\\t\\n9:45a - 10:15a\\tKeynote: How We Use Embeddings and RAG in Copilot - Mario Rodriguez, Senior Vice President, Product, GitHub\\t\\t\\n10:15a-10:45a\\tKeynote: Operationalize Automation for Faster, More Efficient Incident Resolution at a Lower Cost - Emily Johnson, Partner Technical Specialist - IT Automation, IBM\\t\\t\\n10:45a - 11:05a\\tMorning Break \\t\\t\\n\\tBreakout 1\\tBreakout 2\\tBreakout 3\\n\\tCode Assists, Co-Pilots and Productivity\\tObservability, Monitoring & Tracing\\tEnterprise AI and Case Studies\\n11:05a - 11:35a\\tCode AI: From Hype to Helpful - Ado Kukic, Director Developer Advocacy, Sourcegraph\\tMonitoring and Safe-guarding LLMs in Production to Build Safer AI Products - Shiv Sakhuja, Co-Founder & CEO, Athina AI\\tModels, Embeddings & Batches: From Pilot to Production with Enterprise GenAI - Matt Wallace, CTO, Kamiwaza.AI\\n11:40a - 12:10p\\tSecuring a Multi-Tenant, AI based, Developer Productivity Service - Dennis Pilarinos, Founder/CEO, Unblocked\\tSynthetic Data and Model Tracing in an Enterprise AI Environment - Matt Wyman, CEO/Co-Founder, Okareo\\tUnlocking Federal Opportunities: Navigating Challenges in Federal Agency AI Adoption - Nik Mayer, Principal Cloud Architect, Maximus Federal\\n12:15p - 12:45p\\t\"Not Just LLM Magic: Code Assistant Lessons from the Real World - Trent Gray-Donald\\nIBM Fellow, IBM Data and AI\"\\tBeyond Tracing: Unpacking Log Data\\'s Untapped Potential in Monitoring and Troubleshooting Business Transactions - Rakesh Gupta, Director of Product Management, Observe\\tMultimodal Models: A Deep Dive into Real-world Use Cases - Randy DeFauw, Sr. Principal Solutions Architech & Sireesha Muppala, Sr. Solution Architect Leader, AWS\\n12:45p - 1:30p\\tLunch\\t\\t\\n1:30p - 2:00p\\tNetworking with Exhibitors\\t\\t\\n\\tBreakout 1\\tBreakout 2\\tBreakout 3\\n\\tRAG and Beyond\\tData Operations and Testing\\tWASM & Serverless\\n2:00p - 2:30p\\t\"Building Something Real with Retrieval Augmented Generation (RAG) - Jon Bratseth, CEO, Vespa.ai\\n\"\\tCommunity-Centric Approaches to Securing AI-generated Code - Craig McLuckie, CEO, Stacklok \\tWhy Worry About WASM? - Taylor Thomas, Engineering Director, Cosmonic\\n\\t\\t\\t\\n2:35 - 3:05p\\tFact Respecting Generative AI with RAG and Check - Joe Shockman, Co-Founder, GroundedAI\\tSecuring Generative AI in the Enterprise: Overcoming the Data Privacy Hurdle - Rishabh Poddar, CTO, Opaque Systems\\tWANIX: A WebAssembly Operating and Development Environment - Jeff Lindsay, Progrium\\n3:10p - 3:40p\\tA Recipe for Fine-tuning with Direct Preference Optimization (DPO) - Jesse Kipp, Director of Engineering, Cloudflare\\tBeating the Deluge of CVEs: Using Attack Chain Analysis and AI to Secure Your Cloud - Sunil Gottumukala, CEO, Averlon\\tWebAssembly is Key to Better LLM Performance - Samy Fodil, Founder, Taubyte\\n\\t\\t\\t\\n3:40p - 4:00p\\tAfternoon Break \\t\\t\\n\\tBreakout 1\\tBreakout 2\\tBreakout 3\\n\\tFuture Looking AI Uses\\tIT Ops and Analytics\\tUpskilling and the Unexpected\\n4:00p - 4:30p\\tWhy RAG + APIs are the Future of Human/Machine Interaction - Dev Nag, CEO, QueryPal\\tThinking Systematically - Craig Dennis, AI Developer Educator, Cloudflare\\tUpskilling for an AI-Powered Economy - Skylar Graika, Sr. Principal Software Engineer, Smartsheet\\n4:35p - 5:05p\\tYour AI Agent Should Be Executing Code - Vasek Mlejnsky, CEO, E2B\\tSupergraph(QL): Scalable API Strategy For Your Data Using GraphQL - Eric Bilisle, Solutions Engineer, Hasura\\tCloud Native Geospatial Analytics With Apache Sedona, GeoParquet and Apache Iceberg - William Lyon, Dev. Relations Engineer, Wherobots\\n\\t\\t\\t\\n5:10p - 5:40p\\tKeynote: KAITO: Building an Open Source Platform for AI  - Lachlan Evenson, Principal PDM Manager, Microsoft\\t\\t\\n5:40p - 6:10p\\tKeynote: LLMs Beyond the Lab: Refining RAG Performance - Chris Maddock, Head of Product Marketing & Solutions Architecture, Unstructured.io\\t\\t\\n6:10p - 6:40p\\tKeynote: Everything is a Token - Paul Kedrosky, Partner, SK Ventures\\t\\t\\n6:45p - 8:15p\\tEvening Reception and Networking\\t\\t\\n8:00p - 10:00p\\tAI Meetup - (Non-SW2con Attendees MUST be pre-registered). Please see full information HERE to register. \\t\\t\\n\\n\\tDay 2 - Wednesday, May 15, 2024\\t\\t\\n8:00a - 12:00p\\tRegistration Open\\t\\t\\n8:00a - 8:30a\\tDanishes and Coffee\\t\\t\\n8:30a - 8:35a\\tDay 2 Begins - Eric Norlin\\t\\t\\n8:35a - 9:05a\\tKeynote: Responsible Generative AI: Understanding How to Develop Responsible Systems - Sriram Subramanian, Founder, CloudDon\\t\\t\\n9:05a - 9:35a\\tKeynote: Heather Joslyn, Editor-in-Chief, The NewStack Interviews Paige Bailey, Group Product Manager GenAI Models, Google \\t\\t\\n9:35a - 10:05\\tKeynote: How to Detect and Prevent LLM Hallucinations with CI - Rob Zuber, CTO, CircleCI\\t\\t\\n10:05a - 10:20a\\tMorning Break\\t\\t\\n10:20a - 10:30a\\tPassport Prize Announcements (General Session/Breakout 1)\\t\\t\\n\\tBreakout 1\\tBreakout 2\\tBreakout 3\\n\\tAI Ops and Networking\\tBuilding on AI\\tAI and APIs\\n10:35a - 11:05a\\tWhy AI Workloads Need a New Network - Marc Austin, Hedgehog\\tTest Driven Prompting: How Flyflow Won the Mistral Hackathon using LLMs for Model Specific Prompts and Maximum Performance - Carl Cortright, CTO, Flyflow\\tLeveraging AI to Revolutionize API Testing and Development - Pooja Mistry, Developer Advocate, Postman\\n11:10a - 11:40a\\tEmbracing the Edge: Navigating AI\\'s Transformation Towards Edge - Matthew Fields, CEO, VMAccel\\tBetter Data, Better AI: How to Improve Open Source Datasets - Greg Schoeninger, CEO, Oxen.ai\\tAdvanced API Security: Protect Your APIs From Evolving Threats With Al and Machine Learning - Aaron Lieber, Program Director, IBM API Connect & Ryan Bagnulo, Technical Director, Noname Security\\n11:45 - 12:15p\\tKeynote: Thanks For The Memory: New GPU Architectures and Workloads - Adrian Cockcroft, Consultant, OrionX\\t\\t\\n12:15p - 1:00p \\tLunch \\t\\t\\n1:00p - 1:30p\\tNetworking with Exhibitors\\t\\t\\n\\tBreakout 1\\tBreakout 2\\tBreakout 3\\n1:30p - 2:00p\\tElevating AI with Teamwork: The Power of Agent Collaboration - Christian Hammer, CEO, Vala AI\\tSmaller, Better, Faster, Stronger: How to Reduce Log Volume By 99% Without Dropping Data - Kevin Lin, Founder, Nimbus\\tSecuring User Credentials with Intel APIs - Vanessa Villa, Developer Advocate, Pangea\\n2:05 - 2:35p\\tZero-Downtime Live Migration for Stateful Workloads Across Clouds - Shivansh Vij, CEO, Loophole Labs\\tGetting AI to Do the Unexpected - Pranav Shikarpur, Developer Advocate, Pangea\\t\\n2:40p - 3:10p\\tAIOps and Model Deployment: Using MLFlow, Databricks, AWS and More - Rachel Ferguson, ML Engineer, Trellis Law\\t\\t\\n3:15p - 3:45p\\tKeynote: The Human Side of AI - Lorinda Brandon, Retired Software Developer Leader Turned Anthropologist\\t\\t\\n3:45p - 4:00p\\tClosing Comments - SW2 Conference 2024 Ends\\t\\t\\n\\n', 'initial_message': 'Hey there, are you attending SW2 Con today?', 'llm_model': 'gpt-4o', 'voice_id': 'female-young-american-warm', 'webhook': 'https://f078-108-27-77-118.ngrok-free.app/webhook', 'tools': [{'type': 'function', 'function': {'name': 'tag_user_interests', 'description': 'When the user tells the agent their interests, call this function', 'parameters': {'properties': {'interests': {'description': 'Interests of the user eg blockchain', 'type': 'string'}}, 'required': ['interests'], 'type': 'object'}}}], 'filler_words': True, 'filler_words_whitelist': ['Yeah.', 'Hmm.', 'Sure.', 'Let me see.', 'Alright.', 'Well.', '']}\n"
     ]
    }
   ],
   "source": [
    "agent = client.update_agent(\n",
    "    agent_id=agent[\"id\"],\n",
    "    name='SW2 Con Navigator',\n",
    "    system_prompt=system_prompt,\n",
    "    initial_message='Hey there, are you attending SW2 Con today?',\n",
    "    llm_model='gpt-4o',\n",
    "    voice_id='female-young-american-warm',\n",
    "    webhook='https://f078-108-27-77-118.ngrok-free.app/webhook',\n",
    "    tools=[{\n",
    "        \"type\": \"function\",\n",
    "        \"function\": {\n",
    "            \"name\": \"tag_user_interests\",\n",
    "            \"description\": \"When the user tells the agent their interests, call this function\",\n",
    "            \"parameters\": {\n",
    "                \"type\": \"object\",\n",
    "                \"properties\": {\n",
    "                    \"interests\": {\n",
    "                        \"type\": \"string\",\n",
    "                        \"description\": \"Interests of the user eg blockchain\"\n",
    "                    },\n",
    "                },\n",
    "                \"required\": [\"interests\"]\n",
    "            }\n",
    "        }\n",
    "    }],\n",
    "    filler_words=True,\n",
    "    filler_words_whitelist=[\"Yeah.\", \"Hmm.\", \"Sure.\", \"Let me see.\", \"Alright.\", \"Well.\", \"\"],\n",
    ")\n",
    "\n",
    "print(agent)"
   ],
   "metadata": {
    "collapsed": false,
    "ExecuteTime": {
     "end_time": "2024-05-17T16:18:33.214047Z",
     "start_time": "2024-05-17T16:18:33.042523Z"
    }
   },
   "id": "e08d55f2d0ed9697"
  },
  {
   "cell_type": "markdown",
   "source": [
    "## Create a call"
   ],
   "metadata": {
    "collapsed": false
   },
   "id": "d1efd87175ae77fe"
  },
  {
   "cell_type": "code",
   "execution_count": 7,
   "outputs": [
    {
     "data": {
      "text/plain": "{'id': 148,\n 'created_at': '2024-05-17T16:18:55.530346816Z',\n 'updated_at': '2024-05-17T16:18:55.530346816Z',\n 'deleted_at': None,\n 'agent_id': 22,\n 'time_seconds': 0,\n 'average_latency_ms': 0,\n 'transcript': None,\n 'context': '',\n 'twilio_sid': 'CAe48b5ccb8ff4c172a4fb5dfd41fded28',\n 'started_at': '2024-05-17T16:18:55.529492353Z',\n 'ended_at': '0001-01-01T00:00:00Z',\n 'disconnect_reason': ''}"
     },
     "execution_count": 7,
     "metadata": {},
     "output_type": "execute_result"
    }
   ],
   "source": [
    "call = client.create_call(\n",
    "    to_number=\"6083547210\",\n",
    "    from_number=agent[\"phone_number\"],\n",
    "    context=\"\"\n",
    ")"
   ],
   "metadata": {
    "collapsed": false,
    "ExecuteTime": {
     "end_time": "2024-05-17T16:18:55.563101Z",
     "start_time": "2024-05-17T16:18:55.125836Z"
    }
   },
   "id": "7ad1b05944034a4b"
  },
  {
   "cell_type": "code",
   "execution_count": null,
   "outputs": [],
   "source": [
    "client.set_call_context(call[\"id\"], \"the user is interested in ai\")"
   ],
   "metadata": {
    "collapsed": false
   },
   "id": "f0a6dd4fdd5b9f63"
  }
 ],
 "metadata": {
  "kernelspec": {
   "display_name": "Python 3",
   "language": "python",
   "name": "python3"
  },
  "language_info": {
   "codemirror_mode": {
    "name": "ipython",
    "version": 2
   },
   "file_extension": ".py",
   "mimetype": "text/x-python",
   "name": "python",
   "nbconvert_exporter": "python",
   "pygments_lexer": "ipython2",
   "version": "2.7.6"
  }
 },
 "nbformat": 4,
 "nbformat_minor": 5
}
