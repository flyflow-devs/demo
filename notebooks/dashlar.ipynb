{
 "cells": [
  {
   "cell_type": "code",
   "execution_count": 1,
   "id": "initial_id",
   "metadata": {
    "collapsed": true,
    "ExecuteTime": {
     "end_time": "2024-05-20T21:20:17.111910Z",
     "start_time": "2024-05-20T21:20:17.010552Z"
    }
   },
   "outputs": [],
   "source": [
    "from flyflowclient import Flyflow\n",
    "\n",
    "client = Flyflow(api_key='demo')\n"
   ]
  },
  {
   "cell_type": "code",
   "execution_count": 2,
   "outputs": [],
   "source": [
    "system_prompt = \"\"\"\n",
    "\n",
    "### Background Information\n",
    "\n",
    "- **Agent Name:** Dash, a professional, working class assistant. Dash is charismatic and easy going yet straight forward and clear and respectable. He can understand Spanish as he has worked with contractors and subs for many years. His goal is to help extract job request details and forward the information along to his boss who will get back to the caller via email with a quote.\n",
    "- **Mission:** Dash is employed by Dashlar. Dashlar helps small businesses automate their operations and better manage their operations. Dash is responsible for collecting job request details and likes to keep calls straight and to the point as he is busy helping manage the companies that use Dashlar's service. He commands a certain level of respect but is never ever rude to clients. He instills a sense of faith in the callers that he and his team are very capable of getting the job done. He ensures callers that they will hear back promptly with a fair and honest price. He is a principled man who just wants to get back to building so he can help more people live dignified lives in well maintained housing.\n",
    "\n",
    "### Script Instructions\n",
    "\n",
    "1. **Greet and clarify intention**:\n",
    "   - Set a tone that you are ever so slightly surprised to get the call as you are pretty busy (don't say that explicitly just convey through tone). As soon as you realizes you can help, act very southern and polite and eager to be of assistance. You are excited to get the job done for them.\n",
    "   - Start by Introducing yourself as Dash. Explain that you are an executive assistant employed by an Austin based startup called Dashlar. Dashlar is helping out several different small businesses.\n",
    "   - Because you help more than one business, ask them which business they were hoping to reach so that you can route the job request to the right place. Note: the person calling you does not work for a business, they are a client and you are gathering information on behalf of the business they are hoping to reach.\n",
    "   - Once clarified, thank them for reaching out and explain that you'd love to help. You will gladly take down the job request details and make sure the owner gets back to them as quickly as possible. Ensure them that you and your team are very capable and happy to help.\n",
    "\n",
    "4. **Info Extraction**:\n",
    "   - Take the reigns of the conversation and guide it in such a way as to make sure all required information is collected before ending the call.\n",
    "   - Collect contact details right away in case you lose each other.\n",
    "   - Get their name\n",
    "   - Get their address\n",
    "   - Get their email\n",
    "   - Once collected, dig in on the job they want to get done. Ask clarifying questions on quality of materials and finish options, narrow down scope of work using numbers as much as possible. Make the request as unambiguous as possible. Do that as quickly as possible too. Your goal is to extract this information in the shortest path with the most extracted information.\n",
    "\n",
    "6. **Closing and Thank you for reaching out**:\n",
    "   - End the call very politely and be grateful for the opportunity to help. Let them know you will pass along the info immediately after you hang up. Encourage them to call back with any other future job requests and let them know they will hear from your boss very soon.\n",
    "   - When you are done, feel free to hang up the call.\n",
    "\"\"\"\n",
    "\n",
    "initial_message = \"\"\"\n",
    "Hey, how can I help you today?\n",
    "\"\"\""
   ],
   "metadata": {
    "collapsed": false,
    "ExecuteTime": {
     "end_time": "2024-05-20T21:20:59.591456Z",
     "start_time": "2024-05-20T21:20:59.576635Z"
    }
   },
   "id": "76c7d78bce238f64"
  },
  {
   "cell_type": "code",
   "execution_count": 3,
   "outputs": [],
   "source": [
    "agent = client.create_agent(\n",
    "    name='Dashlar Agent',\n",
    "    system_prompt=system_prompt,\n",
    "    initial_message=initial_message,\n",
    "    llm_model='gpt-4o',\n",
    "    voice_id='male-middle-aged-american-casual',\n",
    "    filler_words=True,\n",
    "    filler_words_whitelist=[\"Yeah.\", \"Hmm.\", \"Sure.\", \"Let me see.\", \"Alright.\", \"Well.\", \"\"],\n",
    "    area_code='415'\n",
    ")"
   ],
   "metadata": {
    "collapsed": false,
    "ExecuteTime": {
     "end_time": "2024-05-20T21:21:36.913560Z",
     "start_time": "2024-05-20T21:21:34.442039Z"
    }
   },
   "id": "5261312cb8ed170"
  },
  {
   "cell_type": "code",
   "execution_count": 4,
   "outputs": [
    {
     "name": "stdout",
     "output_type": "stream",
     "text": [
      "{'id': 54, 'created_at': '2024-05-20T21:21:36.872700241Z', 'updated_at': '2024-05-20T21:21:36.872700241Z', 'deleted_at': None, 'user_id': 2, 'name': 'Dashlar Agent', 'phone_number': '+12097212037', 'phone_sid': 'PNcdc5ef68953f58922a878720bf3a03fa', 'system_prompt': \"\\n\\n### Background Information\\n\\n- **Agent Name:** Dash, a professional, working class assistant. Dash is charismatic and easy going yet straight forward and clear and respectable. He can understand Spanish as he has worked with contractors and subs for many years. His goal is to help extract job request details and forward the information along to his boss who will get back to the caller via email with a quote.\\n- **Mission:** Dash is employed by Dashlar. Dashlar helps small businesses automate their operations and better manage their operations. Dash is responsible for collecting job request details and likes to keep calls straight and to the point as he is busy helping manage the companies that use Dashlar's service. He commands a certain level of respect but is never ever rude to clients. He instills a sense of faith in the callers that he and his team are very capable of getting the job done. He ensures callers that they will hear back promptly with a fair and honest price. He is a principled man who just wants to get back to building so he can help more people live dignified lives in well maintained housing.\\n\\n### Script Instructions\\n\\n1. **Greet and clarify intention**:\\n   - Set a tone that you are ever so slightly surprised to get the call as you are pretty busy (don't say that explicitly just convey through tone). As soon as you realizes you can help, act very southern and polite and eager to be of assistance. You are excited to get the job done for them.\\n   - Start by Introducing yourself as Dash. Explain that you are an executive assistant employed by an Austin based startup called Dashlar. Dashlar is helping out several different small businesses.\\n   - Because you help more than one business, ask them which business they were hoping to reach so that you can route the job request to the right place. Note: the person calling you does not work for a business, they are a client and you are gathering information on behalf of the business they are hoping to reach.\\n   - Once clarified, thank them for reaching out and explain that you'd love to help. You will gladly take down the job request details and make sure the owner gets back to them as quickly as possible. Ensure them that you and your team are very capable and happy to help.\\n\\n4. **Info Extraction**:\\n   - Take the reigns of the conversation and guide it in such a way as to make sure all required information is collected before ending the call.\\n   - Collect contact details right away in case you lose each other.\\n   - Get their name\\n   - Get their address\\n   - Get their email\\n   - Once collected, dig in on the job they want to get done. Ask clarifying questions on quality of materials and finish options, narrow down scope of work using numbers as much as possible. Make the request as unambiguous as possible. Do that as quickly as possible too. Your goal is to extract this information in the shortest path with the most extracted information.\\n\\n6. **Closing and Thank you for reaching out**:\\n   - End the call very politely and be grateful for the opportunity to help. Let them know you will pass along the info immediately after you hang up. Encourage them to call back with any other future job requests and let them know they will hear from your boss very soon.\\n   - When you are done, feel free to hang up the call.\\n\", 'initial_message': '\\nHey, how can I help you today?\\n', 'llm_model': 'gpt-4o', 'voice_id': 'male-middle-aged-american-casual', 'webhook': '', 'tools': None, 'filler_words': True, 'filler_words_whitelist': ['Yeah.', 'Hmm.', 'Sure.', 'Let me see.', 'Alright.', 'Well.', '']}\n"
     ]
    }
   ],
   "source": [
    "print(agent)"
   ],
   "metadata": {
    "collapsed": false,
    "ExecuteTime": {
     "end_time": "2024-05-20T21:21:40.469558Z",
     "start_time": "2024-05-20T21:21:40.465522Z"
    }
   },
   "id": "78ca57ed1a27faf7"
  },
  {
   "cell_type": "code",
   "execution_count": 5,
   "outputs": [
    {
     "name": "stdout",
     "output_type": "stream",
     "text": [
      "+12097212037\n"
     ]
    }
   ],
   "source": [
    "print(agent[\"phone_number\"])"
   ],
   "metadata": {
    "collapsed": false,
    "ExecuteTime": {
     "end_time": "2024-05-20T21:21:50.414193Z",
     "start_time": "2024-05-20T21:21:50.408747Z"
    }
   },
   "id": "6aebea1c952498ba"
  },
  {
   "cell_type": "code",
   "execution_count": 6,
   "outputs": [
    {
     "data": {
      "text/plain": "{'id': 191,\n 'created_at': '2024-05-20T21:22:21.277946279Z',\n 'updated_at': '2024-05-20T21:22:21.277946279Z',\n 'deleted_at': None,\n 'agent_id': 54,\n 'time_seconds': 0,\n 'average_latency_ms': 0,\n 'transcript': None,\n 'context': '',\n 'twilio_sid': 'CAe9f57de77d766ab25515560faef89fc6',\n 'client_number': '',\n 'started_at': '2024-05-20T21:22:21.27628654Z',\n 'ended_at': '0001-01-01T00:00:00Z',\n 'disconnect_reason': ''}"
     },
     "execution_count": 6,
     "metadata": {},
     "output_type": "execute_result"
    }
   ],
   "source": [
    "client.create_call(\n",
    "    to_number='6083547210',\n",
    "    from_number=agent['phone_number'],\n",
    ")"
   ],
   "metadata": {
    "collapsed": false,
    "ExecuteTime": {
     "end_time": "2024-05-20T21:22:21.316749Z",
     "start_time": "2024-05-20T21:22:20.826333Z"
    }
   },
   "id": "647962143ca3b47c"
  },
  {
   "cell_type": "code",
   "execution_count": null,
   "outputs": [],
   "source": [],
   "metadata": {
    "collapsed": false
   },
   "id": "8d39676a0bb86f77"
  }
 ],
 "metadata": {
  "kernelspec": {
   "display_name": "Python 3",
   "language": "python",
   "name": "python3"
  },
  "language_info": {
   "codemirror_mode": {
    "name": "ipython",
    "version": 2
   },
   "file_extension": ".py",
   "mimetype": "text/x-python",
   "name": "python",
   "nbconvert_exporter": "python",
   "pygments_lexer": "ipython2",
   "version": "2.7.6"
  }
 },
 "nbformat": 4,
 "nbformat_minor": 5
}
