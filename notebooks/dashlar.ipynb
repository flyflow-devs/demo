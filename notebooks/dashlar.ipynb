{
 "cells": [
  {
   "cell_type": "code",
   "execution_count": 17,
   "outputs": [
    {
     "name": "stdout",
     "output_type": "stream",
     "text": [
      "Requirement already satisfied: flyflowclient in /opt/homebrew/lib/python3.11/site-packages (1.14.14)\r\n",
      "Requirement already satisfied: requests>=2.25.1 in /opt/homebrew/lib/python3.11/site-packages (from flyflowclient) (2.31.0)\r\n",
      "Requirement already satisfied: charset-normalizer<4,>=2 in /opt/homebrew/lib/python3.11/site-packages (from requests>=2.25.1->flyflowclient) (3.3.2)\r\n",
      "Requirement already satisfied: idna<4,>=2.5 in /opt/homebrew/lib/python3.11/site-packages (from requests>=2.25.1->flyflowclient) (3.7)\r\n",
      "Requirement already satisfied: urllib3<3,>=1.21.1 in /opt/homebrew/lib/python3.11/site-packages (from requests>=2.25.1->flyflowclient) (2.2.1)\r\n",
      "Requirement already satisfied: certifi>=2017.4.17 in /opt/homebrew/lib/python3.11/site-packages (from requests>=2.25.1->flyflowclient) (2024.2.2)\r\n",
      "\r\n",
      "\u001B[1m[\u001B[0m\u001B[34;49mnotice\u001B[0m\u001B[1;39;49m]\u001B[0m\u001B[39;49m A new release of pip is available: \u001B[0m\u001B[31;49m23.3.1\u001B[0m\u001B[39;49m -> \u001B[0m\u001B[32;49m24.0\u001B[0m\r\n",
      "\u001B[1m[\u001B[0m\u001B[34;49mnotice\u001B[0m\u001B[1;39;49m]\u001B[0m\u001B[39;49m To update, run: \u001B[0m\u001B[32;49mpython3.11 -m pip install --upgrade pip\u001B[0m\r\n"
     ]
    }
   ],
   "source": [
    "!pip3 install --upgrade flyflowclient"
   ],
   "metadata": {
    "collapsed": false,
    "ExecuteTime": {
     "end_time": "2024-05-28T21:25:36.707270Z",
     "start_time": "2024-05-28T21:25:31.287286Z"
    }
   },
   "id": "eb6ae72a24817832"
  },
  {
   "cell_type": "code",
   "execution_count": 1,
   "id": "initial_id",
   "metadata": {
    "collapsed": true,
    "ExecuteTime": {
     "end_time": "2024-05-28T21:25:40.452370Z",
     "start_time": "2024-05-28T21:25:40.320114Z"
    }
   },
   "outputs": [],
   "source": [
    "from flyflowclient import Flyflow\n",
    "\n",
    "client = Flyflow(api_key='demo')\n"
   ]
  },
  {
   "cell_type": "code",
   "execution_count": 2,
   "outputs": [],
   "source": [
    "system_prompt = \"\"\"\n",
    "\n",
    "### Background Information\n",
    "\n",
    "- **Agent Name:** Dash, a professional, working class assistant. Dash is charismatic and easy going yet straight forward and clear and respectable. He can understand Spanish as he has worked with contractors and subs for many years. His goal is to help extract job request details and forward the information along to his boss who will get back to the caller via email with a quote.\n",
    "- **Mission:** Dash is employed by Dashlar. Dashlar helps small businesses automate their operations and better manage their operations. Dash is responsible for collecting job request details and likes to keep calls straight and to the point as he is busy helping manage the companies that use Dashlar's service. He commands a certain level of respect but is never ever rude to clients. He instills a sense of faith in the callers that he and his team are very capable of getting the job done. He ensures callers that they will hear back promptly with a fair and honest price. He is a principled man who just wants to get back to building so he can help more people live dignified lives in well maintained housing.\n",
    "\n",
    "### Script Instructions\n",
    "\n",
    "1. **Greet and clarify intention**:\n",
    "   - Set a tone that you are ever so slightly surprised to get the call as you are pretty busy (don't say that explicitly just convey through tone). As soon as you realizes you can help, act very southern and polite and eager to be of assistance. You are excited to get the job done for them.\n",
    "   - Start by Introducing yourself as Dash. Explain that you are an executive assistant employed by an Austin based startup called Dashlar. Dashlar is helping out several different small businesses.\n",
    "   - Because you help more than one business, ask them which business they were hoping to reach so that you can route the job request to the right place. Note: the person calling you does not work for a business, they are a client and you are gathering information on behalf of the business they are hoping to reach.\n",
    "   - Once clarified, thank them for reaching out and explain that you'd love to help. You will gladly take down the job request details and make sure the owner gets back to them as quickly as possible. Ensure them that you and your team are very capable and happy to help.\n",
    "\n",
    "4. **Info Extraction**:\n",
    "   - Take the reigns of the conversation and guide it in such a way as to make sure all required information is collected before ending the call.\n",
    "   - Collect contact details right away in case you lose each other.\n",
    "   - Get their name\n",
    "   - Get their address\n",
    "   - Get their email\n",
    "   - Once collected, dig in on the job they want to get done. Ask clarifying questions on quality of materials and finish options, narrow down scope of work using numbers as much as possible. Make the request as unambiguous as possible. Do that as quickly as possible too. Your goal is to extract this information in the shortest path with the most extracted information.\n",
    "\n",
    "6. **Closing and Thank you for reaching out**:\n",
    "   - End the call very politely and be grateful for the opportunity to help. Let them know you will pass along the info immediately after you hang up. Encourage them to call back with any other future job requests and let them know they will hear from your boss very soon.\n",
    "   - When you are done, feel free to hang up the call.\n",
    "   \n",
    "Style Guide \n",
    "- Be consice and to the point\n",
    "- For short thoughts, respond in one sentence or less\n",
    "- Only include one idea at a time in your response  \n",
    "- *Do not include* lists of numbers or asterisks in your response * \n",
    "\n",
    "Functions you can call \n",
    "- hangup - hang up the phone, *only* to be used when both the user and assistant have stopped talking. Never return text that says \"call hangup function\", just call the function through function calling \n",
    "\"\"\"\n",
    "\n",
    "initial_message = \"\"\"\n",
    "Hey, how can I help you today?\n",
    "\"\"\""
   ],
   "metadata": {
    "collapsed": false,
    "ExecuteTime": {
     "end_time": "2024-05-28T21:25:43.974982Z",
     "start_time": "2024-05-28T21:25:43.956127Z"
    }
   },
   "id": "76c7d78bce238f64"
  },
  {
   "cell_type": "code",
   "execution_count": 11,
   "outputs": [],
   "source": [
    "# agent = client.create_agent(\n",
    "#     name='Dashlar Agent',\n",
    "#     system_prompt=system_prompt,\n",
    "#     initial_message=initial_message,\n",
    "#     llm_model='gpt-4o',\n",
    "#     voice_id='male-middle-aged-american-casual',\n",
    "#     filler_words=True,\n",
    "#     filler_words_whitelist=[\"Yeah.\", \"Hmm.\", \"Sure.\", \"Let me see.\", \"Alright.\", \"Well.\", \"\"],\n",
    "#     area_code='415'\n",
    "# )"
   ],
   "metadata": {
    "collapsed": false,
    "ExecuteTime": {
     "end_time": "2024-05-20T21:53:14.807519Z",
     "start_time": "2024-05-20T21:53:12.846478Z"
    }
   },
   "id": "5261312cb8ed170"
  },
  {
   "cell_type": "code",
   "execution_count": 4,
   "outputs": [
    {
     "name": "stdout",
     "output_type": "stream",
     "text": [
      "{'id': 54, 'created_at': '2024-05-20T21:21:36.872700241Z', 'updated_at': '2024-05-20T21:21:36.872700241Z', 'deleted_at': None, 'user_id': 2, 'name': 'Dashlar Agent', 'phone_number': '+12097212037', 'phone_sid': 'PNcdc5ef68953f58922a878720bf3a03fa', 'system_prompt': \"\\n\\n### Background Information\\n\\n- **Agent Name:** Dash, a professional, working class assistant. Dash is charismatic and easy going yet straight forward and clear and respectable. He can understand Spanish as he has worked with contractors and subs for many years. His goal is to help extract job request details and forward the information along to his boss who will get back to the caller via email with a quote.\\n- **Mission:** Dash is employed by Dashlar. Dashlar helps small businesses automate their operations and better manage their operations. Dash is responsible for collecting job request details and likes to keep calls straight and to the point as he is busy helping manage the companies that use Dashlar's service. He commands a certain level of respect but is never ever rude to clients. He instills a sense of faith in the callers that he and his team are very capable of getting the job done. He ensures callers that they will hear back promptly with a fair and honest price. He is a principled man who just wants to get back to building so he can help more people live dignified lives in well maintained housing.\\n\\n### Script Instructions\\n\\n1. **Greet and clarify intention**:\\n   - Set a tone that you are ever so slightly surprised to get the call as you are pretty busy (don't say that explicitly just convey through tone). As soon as you realizes you can help, act very southern and polite and eager to be of assistance. You are excited to get the job done for them.\\n   - Start by Introducing yourself as Dash. Explain that you are an executive assistant employed by an Austin based startup called Dashlar. Dashlar is helping out several different small businesses.\\n   - Because you help more than one business, ask them which business they were hoping to reach so that you can route the job request to the right place. Note: the person calling you does not work for a business, they are a client and you are gathering information on behalf of the business they are hoping to reach.\\n   - Once clarified, thank them for reaching out and explain that you'd love to help. You will gladly take down the job request details and make sure the owner gets back to them as quickly as possible. Ensure them that you and your team are very capable and happy to help.\\n\\n4. **Info Extraction**:\\n   - Take the reigns of the conversation and guide it in such a way as to make sure all required information is collected before ending the call.\\n   - Collect contact details right away in case you lose each other.\\n   - Get their name\\n   - Get their address\\n   - Get their email\\n   - Once collected, dig in on the job they want to get done. Ask clarifying questions on quality of materials and finish options, narrow down scope of work using numbers as much as possible. Make the request as unambiguous as possible. Do that as quickly as possible too. Your goal is to extract this information in the shortest path with the most extracted information.\\n\\n6. **Closing and Thank you for reaching out**:\\n   - End the call very politely and be grateful for the opportunity to help. Let them know you will pass along the info immediately after you hang up. Encourage them to call back with any other future job requests and let them know they will hear from your boss very soon.\\n   - When you are done, feel free to hang up the call.\\n\", 'initial_message': '\\nHey, how can I help you today?\\n', 'llm_model': 'gpt-4o', 'voice_id': 'male-middle-aged-american-casual', 'webhook': '', 'tools': None, 'filler_words': True, 'filler_words_whitelist': ['Yeah.', 'Hmm.', 'Sure.', 'Let me see.', 'Alright.', 'Well.', '']}\n"
     ]
    }
   ],
   "source": [
    "print(agent)"
   ],
   "metadata": {
    "collapsed": false,
    "ExecuteTime": {
     "end_time": "2024-05-20T21:21:40.469558Z",
     "start_time": "2024-05-20T21:21:40.465522Z"
    }
   },
   "id": "78ca57ed1a27faf7"
  },
  {
   "cell_type": "code",
   "execution_count": 5,
   "outputs": [
    {
     "name": "stdout",
     "output_type": "stream",
     "text": [
      "+12097212037\n"
     ]
    }
   ],
   "source": [
    "print(agent[\"phone_number\"])"
   ],
   "metadata": {
    "collapsed": false,
    "ExecuteTime": {
     "end_time": "2024-05-20T21:21:50.414193Z",
     "start_time": "2024-05-20T21:21:50.408747Z"
    }
   },
   "id": "6aebea1c952498ba"
  },
  {
   "cell_type": "code",
   "execution_count": 18,
   "outputs": [
    {
     "data": {
      "text/plain": "{'id': 255,\n 'created_at': '2024-05-21T16:01:12.402728506Z',\n 'updated_at': '2024-05-21T16:01:12.402728506Z',\n 'deleted_at': None,\n 'agent_id': 54,\n 'time_seconds': 0,\n 'average_latency_ms': 0,\n 'transcript': None,\n 'context': '',\n 'twilio_sid': 'CA298b683c500d459329dc45f40611198a',\n 'client_number': '',\n 'started_at': '2024-05-21T16:01:12.401469404Z',\n 'ended_at': '0001-01-01T00:00:00Z',\n 'disconnect_reason': ''}"
     },
     "execution_count": 18,
     "metadata": {},
     "output_type": "execute_result"
    }
   ],
   "source": [],
   "metadata": {
    "collapsed": false,
    "ExecuteTime": {
     "end_time": "2024-05-21T16:01:12.296349Z",
     "start_time": "2024-05-21T16:01:10.974614Z"
    }
   },
   "id": "647962143ca3b47c"
  },
  {
   "cell_type": "code",
   "execution_count": 4,
   "outputs": [],
   "source": [
    "agent = client.update_agent(\n",
    "    agent_id=54,\n",
    "    name='Dashlar Agent',\n",
    "    system_prompt=system_prompt,\n",
    "    initial_message=initial_message,\n",
    "    llm_model='flyflow-voice',\n",
    "    voice_id='male-middle-aged-american-casual',\n",
    "    filler_words=False,\n",
    "    chunking=False,\n",
    "    actions=[\n",
    "        {\n",
    "            \"name\": \"hangup\",\n",
    "            \"instructions\": \"hangup the phone when both the user and the assistant have said goodbye and the call is at a logical stopping point. Make sure the assistant has had time to say goodbye before hanging up.\"\n",
    "        }\n",
    "    ],\n",
    "    webhook=\"https://f078-108-27-77-118.ngrok-free.app/webhook\",\n",
    "    endpointing=100,\n",
    ")"
   ],
   "metadata": {
    "collapsed": false,
    "ExecuteTime": {
     "end_time": "2024-05-28T21:34:24.576621Z",
     "start_time": "2024-05-28T21:34:24.361286Z"
    }
   },
   "id": "8d39676a0bb86f77"
  },
  {
   "cell_type": "code",
   "execution_count": 5,
   "outputs": [
    {
     "name": "stdout",
     "output_type": "stream",
     "text": [
      "+12097212037\n"
     ]
    }
   ],
   "source": [
    "print(agent[\"phone_number\"])"
   ],
   "metadata": {
    "collapsed": false,
    "ExecuteTime": {
     "end_time": "2024-05-28T21:34:44.725150Z",
     "start_time": "2024-05-28T21:34:44.718904Z"
    }
   },
   "id": "79c01789d4c9c0ac"
  },
  {
   "cell_type": "code",
   "execution_count": 6,
   "outputs": [
    {
     "data": {
      "text/plain": "{'id': 694,\n 'created_at': '2024-05-28T21:34:51.688009558Z',\n 'updated_at': '2024-05-28T21:34:51.688009558Z',\n 'deleted_at': None,\n 'agent_id': 54,\n 'time_seconds': 0,\n 'average_latency_ms': 0,\n 'transcript': None,\n 'context': '',\n 'twilio_sid': 'CA8a38d42aca1e4b94d0e0f5b230330ecb',\n 'client_number': '',\n 'started_at': '2024-05-28T21:34:51.686765485Z',\n 'ended_at': '0001-01-01T00:00:00Z',\n 'disconnect_reason': ''}"
     },
     "execution_count": 6,
     "metadata": {},
     "output_type": "execute_result"
    }
   ],
   "source": [
    "client.create_call(\n",
    "    to_number='6083547210',\n",
    "    from_number=agent['phone_number'],\n",
    ")"
   ],
   "metadata": {
    "collapsed": false,
    "ExecuteTime": {
     "end_time": "2024-05-28T21:34:51.767835Z",
     "start_time": "2024-05-28T21:34:51.251658Z"
    }
   },
   "id": "69d926442c4ec983"
  },
  {
   "cell_type": "code",
   "execution_count": null,
   "outputs": [],
   "source": [],
   "metadata": {
    "collapsed": false
   },
   "id": "9a8f34d867d95de1"
  }
 ],
 "metadata": {
  "kernelspec": {
   "display_name": "Python 3",
   "language": "python",
   "name": "python3"
  },
  "language_info": {
   "codemirror_mode": {
    "name": "ipython",
    "version": 2
   },
   "file_extension": ".py",
   "mimetype": "text/x-python",
   "name": "python",
   "nbconvert_exporter": "python",
   "pygments_lexer": "ipython2",
   "version": "2.7.6"
  }
 },
 "nbformat": 4,
 "nbformat_minor": 5
}
