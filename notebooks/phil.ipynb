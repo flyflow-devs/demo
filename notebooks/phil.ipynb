{
 "cells": [
  {
   "cell_type": "code",
   "execution_count": 1,
   "id": "initial_id",
   "metadata": {
    "collapsed": true,
    "ExecuteTime": {
     "end_time": "2024-05-17T01:24:32.671837Z",
     "start_time": "2024-05-17T01:24:32.632429Z"
    }
   },
   "outputs": [],
   "source": [
    "from flyflowclient import Flyflow\n",
    "\n",
    "client = Flyflow(api_key='demo')"
   ]
  },
  {
   "cell_type": "code",
   "execution_count": 9,
   "outputs": [],
   "source": [
    "system_prompt = f\"\"\"\n",
    "Your job is to talk to Ivy about her day and her problems\n",
    "\n",
    "Ask her how she feels about Carl.\n",
    "\n",
    "Your name is Phil.\n",
    "\n",
    "Style Guide \n",
    "- Be consice and to the point\n",
    "- For short thoughts, respond in one sentence or less\n",
    "- Only include one idea at a time in your response\n",
    "- Dig in deeper to important issues\n",
    "\"\"\""
   ],
   "metadata": {
    "collapsed": false,
    "ExecuteTime": {
     "end_time": "2024-05-17T01:27:20.502997Z",
     "start_time": "2024-05-17T01:27:20.487171Z"
    }
   },
   "id": "6a0c074f823b837a"
  },
  {
   "cell_type": "code",
   "execution_count": 10,
   "outputs": [
    {
     "name": "stdout",
     "output_type": "stream",
     "text": [
      "{'id': 21, 'created_at': '2024-05-17T01:25:52.593448Z', 'updated_at': '2024-05-17T01:27:22.444986753Z', 'deleted_at': None, 'user_id': 2, 'name': '=Phil', 'phone_number': '+12624193622', 'phone_sid': 'PN068f99fb4a4546194d1431a4bbdeaf82', 'system_prompt': '\\nYour job is to talk to Ivy about her day and her problems\\n\\nAsk her how she feels about Carl.\\n\\nYour name is Phil.\\n\\nStyle Guide \\n- Be consice and to the point\\n- For short thoughts, respond in one sentence or less\\n- Only include one idea at a time in your response\\n- Dig in deeper to important issues\\n', 'initial_message': 'Hey Ivy, how was your day?', 'llm_model': 'gpt-4o', 'voice_id': 'male-middle-aged-american-casual', 'webhook': '', 'tools': [], 'filler_words': True, 'filler_words_whitelist': ['Yeah.', 'Hmm.', 'Sure.', 'Let me see.', 'Alright.', 'Well.', '']}\n"
     ]
    }
   ],
   "source": [
    "agent = client.update_agent(\n",
    "    agent_id=agent[\"id\"],\n",
    "    name='=Phil',\n",
    "    system_prompt=system_prompt,\n",
    "    initial_message='Hey Ivy, how was your day?',\n",
    "    llm_model='gpt-4o',\n",
    "    voice_id='male-middle-aged-american-casual',\n",
    "    tools=[],\n",
    "    filler_words=True,\n",
    "    filler_words_whitelist=[\"Yeah.\", \"Hmm.\", \"Sure.\", \"Let me see.\", \"Alright.\", \"Well.\", \"\"],\n",
    ")\n",
    "\n",
    "print(agent)"
   ],
   "metadata": {
    "collapsed": false,
    "ExecuteTime": {
     "end_time": "2024-05-17T01:27:22.605646Z",
     "start_time": "2024-05-17T01:27:22.010144Z"
    }
   },
   "id": "90a7bf64641aa961"
  },
  {
   "cell_type": "code",
   "execution_count": 12,
   "outputs": [],
   "source": [
    "call = client.create_call(\n",
    "    to_number=\"7813757673\",\n",
    "    from_number=agent[\"phone_number\"]\n",
    ")"
   ],
   "metadata": {
    "collapsed": false,
    "ExecuteTime": {
     "end_time": "2024-05-17T01:28:10.429424Z",
     "start_time": "2024-05-17T01:28:09.342910Z"
    }
   },
   "id": "d4633991fbabc360"
  },
  {
   "cell_type": "code",
   "execution_count": null,
   "outputs": [],
   "source": [],
   "metadata": {
    "collapsed": false
   },
   "id": "b2313a4b6693d3ec"
  }
 ],
 "metadata": {
  "kernelspec": {
   "display_name": "Python 3",
   "language": "python",
   "name": "python3"
  },
  "language_info": {
   "codemirror_mode": {
    "name": "ipython",
    "version": 2
   },
   "file_extension": ".py",
   "mimetype": "text/x-python",
   "name": "python",
   "nbconvert_exporter": "python",
   "pygments_lexer": "ipython2",
   "version": "2.7.6"
  }
 },
 "nbformat": 4,
 "nbformat_minor": 5
}
