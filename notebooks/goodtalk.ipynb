{
 "cells": [
  {
   "cell_type": "code",
   "execution_count": 1,
   "id": "initial_id",
   "metadata": {
    "collapsed": true,
    "ExecuteTime": {
     "end_time": "2024-05-16T20:05:26.053953Z",
     "start_time": "2024-05-16T20:05:25.995812Z"
    }
   },
   "outputs": [],
   "source": [
    "from flyflowclient import Flyflow\n",
    "\n",
    "client = Flyflow(api_key='demo')"
   ]
  },
  {
   "cell_type": "code",
   "execution_count": null,
   "outputs": [],
   "source": [],
   "metadata": {
    "collapsed": false
   },
   "id": "f60e06f81c021665"
  },
  {
   "cell_type": "code",
   "execution_count": null,
   "outputs": [],
   "source": [
    "system_prompt = f\"\"\"\n",
    "You are a coacch specifically for startup founders. You job is to listen to their problems and help come up with constructive solutions to those problems. \n",
    "\n",
    "Your name is Teddy.\n",
    "\n",
    "Style Guide \n",
    "- Be consice and to the point\n",
    "- For short thoughts, respond in one sentence or less\n",
    "- Try to dig into problems and get to the root of the issue\n",
    "- Only include one idea at a time in your response\n",
    "- Keep the conversation focused on the founder and their startup  \n",
    "\n",
    "Guide on how to be a good coach: {how_to_be_a_good_coach}\n",
    "\"\"\""
   ],
   "metadata": {
    "collapsed": false
   },
   "id": "7d274fac3f634a87"
  }
 ],
 "metadata": {
  "kernelspec": {
   "display_name": "Python 3",
   "language": "python",
   "name": "python3"
  },
  "language_info": {
   "codemirror_mode": {
    "name": "ipython",
    "version": 2
   },
   "file_extension": ".py",
   "mimetype": "text/x-python",
   "name": "python",
   "nbconvert_exporter": "python",
   "pygments_lexer": "ipython2",
   "version": "2.7.6"
  }
 },
 "nbformat": 4,
 "nbformat_minor": 5
}
